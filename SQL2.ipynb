{
  "nbformat": 4,
  "nbformat_minor": 0,
  "metadata": {
    "colab": {
      "name": "SQL2.ipynb",
      "provenance": [],
      "collapsed_sections": []
    },
    "kernelspec": {
      "name": "python3",
      "display_name": "Python 3"
    }
  },
  "cells": [
    {
      "cell_type": "markdown",
      "metadata": {
        "id": "U1hK0WMy9keO"
      },
      "source": [
        "### **Show Users**"
      ]
    },
    {
      "cell_type": "code",
      "metadata": {
        "id": "qp8lBB6e9n6A"
      },
      "source": [
        "# SELECT User, Host FROM mysql.user;"
      ],
      "execution_count": null,
      "outputs": []
    },
    {
      "cell_type": "markdown",
      "metadata": {
        "id": "8WV0EFnY_7g0"
      },
      "source": [
        "### **Show Databases**"
      ]
    },
    {
      "cell_type": "code",
      "metadata": {
        "id": "cjJsWEYXAwYq"
      },
      "source": [
        "# show databases;"
      ],
      "execution_count": null,
      "outputs": []
    },
    {
      "cell_type": "markdown",
      "metadata": {
        "id": "vCJNE4pPA7k1"
      },
      "source": [
        "### **Select Database**"
      ]
    },
    {
      "cell_type": "code",
      "metadata": {
        "id": "8ap-mlWEA1Xd"
      },
      "source": [
        "# use database_name;"
      ],
      "execution_count": null,
      "outputs": []
    },
    {
      "cell_type": "markdown",
      "metadata": {
        "id": "eghbZnX4-YsV"
      },
      "source": [
        "### **Create Database**"
      ]
    },
    {
      "cell_type": "code",
      "metadata": {
        "id": "s69F6ya4-c6M"
      },
      "source": [
        "# create database database_name;"
      ],
      "execution_count": null,
      "outputs": []
    },
    {
      "cell_type": "markdown",
      "metadata": {
        "id": "KCxW740u-rGC"
      },
      "source": [
        "### **Drop Database**"
      ]
    },
    {
      "cell_type": "code",
      "metadata": {
        "id": "FpIkjiYa-hKZ"
      },
      "source": [
        "# drop database database_name;"
      ],
      "execution_count": null,
      "outputs": []
    },
    {
      "cell_type": "markdown",
      "metadata": {
        "id": "tv8Jq3js-8Cz"
      },
      "source": [
        "### **Backup Database**"
      ]
    },
    {
      "cell_type": "code",
      "metadata": {
        "id": "NwEy7l3X-xVY"
      },
      "source": [
        "# BACKUP DATABASE databasename\r\n",
        "# TO DISK = 'filepath';"
      ],
      "execution_count": null,
      "outputs": []
    },
    {
      "cell_type": "code",
      "metadata": {
        "id": "NsaOXAi4_8WP"
      },
      "source": [
        "# BACKUP DATABASE databasename\r\n",
        "# TO DISK = 'filepath'\r\n",
        "# WITH DIFFERENTIAL;\r\n",
        "\r\n",
        "#A differential back up only backs up the parts of the database that have changed since the last full database backup."
      ],
      "execution_count": null,
      "outputs": []
    },
    {
      "cell_type": "markdown",
      "metadata": {
        "id": "0bWIAnKkB-9y"
      },
      "source": [
        "### **Show Tables**"
      ]
    },
    {
      "cell_type": "code",
      "metadata": {
        "id": "-CkMOLs1BF3G"
      },
      "source": [
        "# show tables;"
      ],
      "execution_count": null,
      "outputs": []
    },
    {
      "cell_type": "markdown",
      "metadata": {
        "id": "0bWIAnKkB-9y"
      },
      "source": [
        "### **Show Table's structure**"
      ]
    },
    {
      "cell_type": "code",
      "metadata": {
        "id": "-CkMOLs1BF3G"
      },
      "source": [
        "# describe table_name;"
      ],
      "execution_count": null,
      "outputs": []
    },
    {
      "cell_type": "markdown",
      "metadata": {
        "id": "-oc5wj9MNLeQ"
      },
      "source": [
        "### **List all columns from a given table**"
      ]
    },
    {
      "cell_type": "code",
      "metadata": {
        "id": "uTvJ7hk-NSxc"
      },
      "source": [
        "# show columns from table_name;"
      ],
      "execution_count": 1,
      "outputs": []
    },
    {
      "cell_type": "markdown",
      "metadata": {
        "id": "m0E1CQkVD-ZR"
      },
      "source": [
        "### **Create Table**"
      ]
    },
    {
      "cell_type": "code",
      "metadata": {
        "id": "vzU6G3N6CD3G"
      },
      "source": [
        "# create table table_name       create table employee\r\n",
        "# ( col1 dtype1,                 (id int,\r\n",
        "#   col2 dtype2,                  name varchar(20),\r\n",
        "#   col3 dtype3                   city varchar(25)\r\n",
        "# );                           );\r\n"
      ],
      "execution_count": null,
      "outputs": []
    },
    {
      "cell_type": "code",
      "metadata": {
        "id": "NcSwmT0pEvOO"
      },
      "source": [
        "# creating table using another table\r\n",
        "\r\n",
        "# create table new_table_name as\r\n",
        "# select col1, col2 from existing_table where cond"
      ],
      "execution_count": null,
      "outputs": []
    },
    {
      "cell_type": "markdown",
      "metadata": {
        "id": "z0Djc02dGBba"
      },
      "source": [
        "### **Delete/Truncate/Drop Table**"
      ]
    },
    {
      "cell_type": "code",
      "metadata": {
        "id": "JQc93voLE-oZ"
      },
      "source": [
        "# delete from table_name;                it temporarily delete all the records from the table. if we roll back, we will get the data.\r\n",
        "#                                        The structure of table is preserved.\r\n",
        "\r\n",
        "# truncate table table_name;             it permanently deletes all the records from the table. if we roll back we won't get the data.\r\n",
        "#                                        But it will not delete the table structure.\r\n",
        "\r\n",
        "# drop table table_name;                 it permanently deletes all the records from the table and completly destroy the str of the table from the database.\r\n"
      ],
      "execution_count": null,
      "outputs": []
    },
    {
      "cell_type": "markdown",
      "metadata": {
        "id": "99gsZBPtLdtE"
      },
      "source": [
        "### **Deleting a single Record**"
      ]
    },
    {
      "cell_type": "code",
      "metadata": {
        "id": "RwK0s1QuHVUG"
      },
      "source": [
        "# delete from employees where id=6;          "
      ],
      "execution_count": null,
      "outputs": []
    },
    {
      "cell_type": "markdown",
      "metadata": {
        "id": "dRAS2MsiICkv"
      },
      "source": [
        "### **Insert a single Record**"
      ]
    },
    {
      "cell_type": "code",
      "metadata": {
        "id": "BGsVS0vaHfu-"
      },
      "source": [
        "# insert into table_name(col1,col2,col3,...)\r\n",
        "# values(val1,val2,val3,...);\r\n",
        "\r\n",
        "\r\n",
        "#if we r adding values for all the columns of the table then u don't need to specify the column names:\r\n",
        "# insert into table_name\r\n",
        "# values(val1,val2,val3,...);"
      ],
      "execution_count": null,
      "outputs": []
    },
    {
      "cell_type": "code",
      "metadata": {
        "id": "DzFiZRkNI3k8"
      },
      "source": [
        "# INSERT INTO users (first_name, last_name, email, password, location, dept, is_admin, register_date)\r\n",
        "# values ('Brad', 'Traversy', 'brad@gmail.com', '123456','Massachusetts', 'development', 1, now());"
      ],
      "execution_count": null,
      "outputs": []
    },
    {
      "cell_type": "markdown",
      "metadata": {
        "id": "j5dKqRc5JG4s"
      },
      "source": [
        "### **Insert Multiple Records**"
      ]
    },
    {
      "cell_type": "code",
      "metadata": {
        "id": "FDwtjbYUJCjy"
      },
      "source": [
        "# INSERT INTO users (first_name, last_name, email, password, location, dept,  is_admin, register_date)\r\n",
        "#  values ('Fred', 'Smith', 'fred@gmail.com', '123456', 'New York', 'design', 0, now()), \r\n",
        "#  ('Sara', 'Watson', 'sara@gmail.com', '123456', 'New York', 'design', 0, now()),\r\n",
        "#  ('Will', 'Jackson', 'will@yahoo.com', '123456', 'Rhode Island', 'development', 1, now()),\r\n",
        "#  ('Paula', 'Johnson', 'paula@yahoo.com', '123456', 'Massachusetts', 'sales', 0, now()),\r\n",
        "#  ('Tom', 'Spears', 'tom@yahoo.com', '123456', 'Massachusetts', 'sales', 0, now());"
      ],
      "execution_count": null,
      "outputs": []
    },
    {
      "cell_type": "markdown",
      "metadata": {
        "id": "LpTt0g0gLytw"
      },
      "source": [
        "### **Updating a Record**"
      ]
    },
    {
      "cell_type": "code",
      "metadata": {
        "id": "EOsAhZVrOWME"
      },
      "source": [
        "# update table_name\r\n",
        "# set col1=val1, col2=val2,....\r\n",
        "# where cond;\r\n",
        "\r\n",
        "# UPDATE users \r\n",
        "# SET email = 'freddy@gmail.com' \r\n",
        "# WHERE id = 2;"
      ],
      "execution_count": null,
      "outputs": []
    },
    {
      "cell_type": "markdown",
      "metadata": {
        "id": "jpjNWojmPRet"
      },
      "source": [
        "### **Select Table**"
      ]
    },
    {
      "cell_type": "code",
      "metadata": {
        "id": "ZE9cgshCOs1J"
      },
      "source": [
        "# select * from Table_name;"
      ],
      "execution_count": null,
      "outputs": []
    },
    {
      "cell_type": "markdown",
      "metadata": {
        "id": "OWEWxN7VPfpq"
      },
      "source": [
        "### **Select a Record**"
      ]
    },
    {
      "cell_type": "code",
      "metadata": {
        "id": "oY3ojkaVPepk"
      },
      "source": [
        "# select * from table_name where id =6;"
      ],
      "execution_count": null,
      "outputs": []
    },
    {
      "cell_type": "markdown",
      "metadata": {
        "id": "9t1mJN8EQWjT"
      },
      "source": [
        "### **Add new Column**"
      ]
    },
    {
      "cell_type": "code",
      "metadata": {
        "id": "SKtentGnPoCz"
      },
      "source": [
        "# alter table table_name\r\n",
        "# add column_name dtype;\r\n",
        "\r\n",
        "# ALTER TABLE users \r\n",
        "# ADD age VARCHAR(3);"
      ],
      "execution_count": null,
      "outputs": []
    },
    {
      "cell_type": "markdown",
      "metadata": {
        "id": "bkLqKC8DQ3lZ"
      },
      "source": [
        "### **Drop Column**"
      ]
    },
    {
      "cell_type": "code",
      "metadata": {
        "id": "0tx3b-V-QjNG"
      },
      "source": [
        "# alter table table_name\r\n",
        "# drop column column_name;\r\n",
        "\r\n",
        "# ALTER TABLE users \r\n",
        "# drop column age;"
      ],
      "execution_count": null,
      "outputs": []
    },
    {
      "cell_type": "markdown",
      "metadata": {
        "id": "AeXxNWHlRHGL"
      },
      "source": [
        "### **Modify Column**"
      ]
    },
    {
      "cell_type": "code",
      "metadata": {
        "id": "HiBI2jNpRDrV"
      },
      "source": [
        "#alter table table_name\r\n",
        "#modify column column_name new_dtype;\r\n",
        "\r\n",
        "# ALTER TABLE users\r\n",
        "# MODIFY COLUMN age INT(3);"
      ],
      "execution_count": null,
      "outputs": []
    },
    {
      "cell_type": "markdown",
      "metadata": {
        "id": "XiYRCpoMRwcb"
      },
      "source": [
        "### **Views**"
      ]
    },
    {
      "cell_type": "code",
      "metadata": {
        "id": "Roatt3teRT8h"
      },
      "source": [
        "# CREATE VIEW view_name AS\r\n",
        "# SELECT column1, column2, ...\r\n",
        "# FROM table_name\r\n",
        "# WHERE condition;"
      ],
      "execution_count": null,
      "outputs": []
    },
    {
      "cell_type": "code",
      "metadata": {
        "id": "5gqCc9_KRzC6"
      },
      "source": [
        "#DROP VIEW view_name;"
      ],
      "execution_count": null,
      "outputs": []
    },
    {
      "cell_type": "markdown",
      "metadata": {
        "id": "6pWivyX0SUpg"
      },
      "source": [
        "### **MySQL Functions**"
      ]
    },
    {
      "cell_type": "code",
      "metadata": {
        "id": "1L4bAL2sSGPA"
      },
      "source": [
        "#TRUNCATE:\tTruncates a number to the specified number of decimal places\r\n",
        "\r\n",
        "#SELECT TRUNCATE(135.375, 2);"
      ],
      "execution_count": null,
      "outputs": []
    },
    {
      "cell_type": "code",
      "metadata": {
        "id": "Vb7BeYXqrMHM"
      },
      "source": [
        "#ROUND:\tRounds a number to a specified number of decimal places\r\n",
        "\r\n",
        "#select round(LONG_W,4) from STATION where LAT_N<137.2345;"
      ],
      "execution_count": null,
      "outputs": []
    },
    {
      "cell_type": "code",
      "metadata": {
        "id": "OnSQaRlzwMmG"
      },
      "source": [
        "#ABS:\tReturns the absolute value of a number\r\n",
        "\r\n",
        "#Manhattan Distance between points p1(x1,y1) and p2(x2,y2) and round it to a scale of  decimal places.\r\n",
        "#select round(abs(max(LAT_N)-min(LAT_N))+abs(max(LONG_W)-min(LONG_W)),4) from STATION "
      ],
      "execution_count": null,
      "outputs": []
    },
    {
      "cell_type": "code",
      "metadata": {
        "id": "1UvjSXeyydq7"
      },
      "source": [
        "#POW:\tReturns the value of a number raised to the power of another number"
      ],
      "execution_count": null,
      "outputs": []
    },
    {
      "cell_type": "code",
      "metadata": {
        "id": "GmPa1WPJyfsO"
      },
      "source": [
        "#SQRT:\tReturns the square root of a number"
      ],
      "execution_count": null,
      "outputs": []
    },
    {
      "cell_type": "code",
      "metadata": {
        "id": "3mWaEkbGw3gX"
      },
      "source": [
        "#Euclidean Distance\r\n",
        "# select truncate(sqrt(pow((min( LAT_N) - max( LAT_N)),2) + pow((min(LONG_W) - max(LONG_W)),2)),4) from STATION"
      ],
      "execution_count": null,
      "outputs": []
    },
    {
      "cell_type": "code",
      "metadata": {
        "id": "MBICwiZdvUAu"
      },
      "source": [
        ""
      ],
      "execution_count": null,
      "outputs": []
    },
    {
      "cell_type": "code",
      "metadata": {
        "id": "v3y-7GlArnOW"
      },
      "source": [
        "#REPLACE:\tReplaces all occurrences of a substring within a string, with a new substring\r\n",
        "\r\n",
        "# select avg(replace(salary,'0','')) from Employees;\r\n",
        "# select replace('sourav kamboj','o','$')"
      ],
      "execution_count": null,
      "outputs": []
    },
    {
      "cell_type": "code",
      "metadata": {
        "id": "yWJV0uGSw4R5"
      },
      "source": [
        "#SUBSTR:\tExtracts a substring from a string (starting at any position)\r\n",
        "\r\n",
        "#Extract a substring from a string (start at position 5th from last, extract 2 characters):\r\n",
        "# select name from STUDENTS where marks>75 order by substr(name,-5,2) asc, ID asc;"
      ],
      "execution_count": null,
      "outputs": []
    },
    {
      "cell_type": "code",
      "metadata": {
        "id": "NN5p0Zqjv842"
      },
      "source": [
        "#REPEAT:\tRepeats a string as many times as specified\r\n",
        "\r\n",
        "# select repeat('*',5)"
      ],
      "execution_count": 1,
      "outputs": []
    },
    {
      "cell_type": "code",
      "metadata": {
        "id": "VuJ26w9VUkng"
      },
      "source": [
        ""
      ],
      "execution_count": null,
      "outputs": []
    }
  ]
}
