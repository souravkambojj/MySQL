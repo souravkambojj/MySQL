{
  "nbformat": 4,
  "nbformat_minor": 0,
  "metadata": {
    "colab": {
      "name": "SQLITE.ipynb",
      "provenance": [],
      "collapsed_sections": []
    },
    "kernelspec": {
      "name": "python3",
      "display_name": "Python 3"
    }
  },
  "cells": [
    {
      "cell_type": "code",
      "metadata": {
        "id": "xF3NhNFqQRPn"
      },
      "source": [
        "#https://www.geeksforgeeks.org/sql-using-python-sqlite-set-2/\r\n",
        "#https://www.geeksforgeeks.org/sql-using-python-set-3-handling-large-data/"
      ],
      "execution_count": 1,
      "outputs": []
    },
    {
      "cell_type": "code",
      "metadata": {
        "id": "hchSTF6UY9JY"
      },
      "source": [
        "import sqlite3\r\n",
        "\r\n",
        "conn = sqlite3.connect('Person.db')\r\n",
        "cr = conn.cursor()"
      ],
      "execution_count": 2,
      "outputs": []
    },
    {
      "cell_type": "markdown",
      "metadata": {
        "id": "RKOvWdFZZHks"
      },
      "source": [
        "### **Table Creation**"
      ]
    },
    {
      "cell_type": "code",
      "metadata": {
        "id": "X46C5CEhZFxh"
      },
      "source": [
        "query = ''' create table data\r\n",
        "            (id int not null,\r\n",
        "            name varchar(25),\r\n",
        "             age int not null,\r\n",
        "             primary key(id)\r\n",
        "              ); '''"
      ],
      "execution_count": 7,
      "outputs": []
    },
    {
      "cell_type": "code",
      "metadata": {
        "id": "xMPgIItlaO2B"
      },
      "source": [
        "cr.execute(query)"
      ],
      "execution_count": null,
      "outputs": []
    },
    {
      "cell_type": "markdown",
      "metadata": {
        "id": "CAfHkUzEZoA7"
      },
      "source": [
        "### **Data Insertion**"
      ]
    },
    {
      "cell_type": "code",
      "metadata": {
        "id": "0hKdkn6JZmi2"
      },
      "source": [
        "query2 = '''insert into data values (1,'sourav',25),(2,'vivek',23),(3,'opinder',26),(4,'niranjan',22)'''; "
      ],
      "execution_count": 9,
      "outputs": []
    },
    {
      "cell_type": "code",
      "metadata": {
        "colab": {
          "base_uri": "https://localhost:8080/"
        },
        "id": "UUyXgBmIaGKG",
        "outputId": "f0b11bf3-6c2e-460e-c9d2-08c5137f149b"
      },
      "source": [
        "cr.execute(query2)"
      ],
      "execution_count": 10,
      "outputs": [
        {
          "output_type": "execute_result",
          "data": {
            "text/plain": [
              "<sqlite3.Cursor at 0x7fa1b73c6f80>"
            ]
          },
          "metadata": {
            "tags": []
          },
          "execution_count": 10
        }
      ]
    },
    {
      "cell_type": "code",
      "metadata": {
        "id": "uTy-WrwsaTMo"
      },
      "source": [
        "conn.commit()\r\n",
        "conn.close()"
      ],
      "execution_count": 12,
      "outputs": []
    },
    {
      "cell_type": "markdown",
      "metadata": {
        "id": "XHMQLgGcbY5d"
      },
      "source": [
        ""
      ]
    },
    {
      "cell_type": "markdown",
      "metadata": {
        "id": "D0aDRWu4bZHG"
      },
      "source": [
        "### **Fetching Data**"
      ]
    },
    {
      "cell_type": "code",
      "metadata": {
        "id": "dw8l5eT_a7Sh"
      },
      "source": [
        "co = sqlite3.connect('Person.db')\r\n",
        "cr = co.cursor()"
      ],
      "execution_count": 13,
      "outputs": []
    },
    {
      "cell_type": "code",
      "metadata": {
        "id": "5pWBZaRobju6"
      },
      "source": [
        "query = '''select * from data'''"
      ],
      "execution_count": 14,
      "outputs": []
    },
    {
      "cell_type": "code",
      "metadata": {
        "colab": {
          "base_uri": "https://localhost:8080/"
        },
        "id": "gHypYRqKbnse",
        "outputId": "f819de41-6f10-4639-bf25-7c2d48a8df53"
      },
      "source": [
        "cr.execute(query)"
      ],
      "execution_count": 15,
      "outputs": [
        {
          "output_type": "execute_result",
          "data": {
            "text/plain": [
              "<sqlite3.Cursor at 0x7fa1b6a14f10>"
            ]
          },
          "metadata": {
            "tags": []
          },
          "execution_count": 15
        }
      ]
    },
    {
      "cell_type": "code",
      "metadata": {
        "colab": {
          "base_uri": "https://localhost:8080/"
        },
        "id": "vLPWcW8gbqU9",
        "outputId": "1775a317-5f8d-4cb0-8def-e90cc7f57330"
      },
      "source": [
        "for i in cr.fetchall():\r\n",
        "  print(i)"
      ],
      "execution_count": 16,
      "outputs": [
        {
          "output_type": "stream",
          "text": [
            "(1, 'sourav', 25)\n",
            "(2, 'vivek', 23)\n",
            "(3, 'opinder', 26)\n",
            "(4, 'niranjan', 22)\n"
          ],
          "name": "stdout"
        }
      ]
    },
    {
      "cell_type": "code",
      "metadata": {
        "id": "qUW7_nVBbwUF"
      },
      "source": [
        "conn.close()"
      ],
      "execution_count": 17,
      "outputs": []
    },
    {
      "cell_type": "markdown",
      "metadata": {
        "id": "YloD8KF4b_b2"
      },
      "source": [
        "### **Updating Table**"
      ]
    },
    {
      "cell_type": "code",
      "metadata": {
        "id": "cptxQOntb00X"
      },
      "source": [
        "co = sqlite3.connect('Person.db')\r\n",
        "cr = co.cursor()"
      ],
      "execution_count": 18,
      "outputs": []
    },
    {
      "cell_type": "code",
      "metadata": {
        "colab": {
          "base_uri": "https://localhost:8080/"
        },
        "id": "0736Ad_TcLIT",
        "outputId": "90753a59-9a89-4ae0-f9e6-7400e41b9993"
      },
      "source": [
        "query = '''update data set name='prashant' where id =1'''\r\n",
        "\r\n",
        "cr.execute(query)"
      ],
      "execution_count": 20,
      "outputs": [
        {
          "output_type": "execute_result",
          "data": {
            "text/plain": [
              "<sqlite3.Cursor at 0x7fa1b69c2f80>"
            ]
          },
          "metadata": {
            "tags": []
          },
          "execution_count": 20
        }
      ]
    },
    {
      "cell_type": "code",
      "metadata": {
        "colab": {
          "base_uri": "https://localhost:8080/"
        },
        "id": "gYEvv2xwcdzF",
        "outputId": "b404590b-9f2f-465c-b42a-7d1b7cc23796"
      },
      "source": [
        "cr.execute('''select * from data''')\r\n",
        "for i in cr.fetchall():\r\n",
        "  print(i)"
      ],
      "execution_count": 22,
      "outputs": [
        {
          "output_type": "stream",
          "text": [
            "(1, 'prashant', 25)\n",
            "(2, 'vivek', 23)\n",
            "(3, 'opinder', 26)\n",
            "(4, 'niranjan', 22)\n"
          ],
          "name": "stdout"
        }
      ]
    },
    {
      "cell_type": "code",
      "metadata": {
        "id": "bIkC_lc_cqch"
      },
      "source": [
        "co.commit()\r\n",
        "co.close()"
      ],
      "execution_count": 23,
      "outputs": []
    },
    {
      "cell_type": "markdown",
      "metadata": {
        "id": "ie7fIHpOc3j_"
      },
      "source": [
        "### **Deleting Records**"
      ]
    },
    {
      "cell_type": "code",
      "metadata": {
        "id": "zFduHq6tc2mr"
      },
      "source": [
        "co = sqlite3.connect('Person.db')\r\n",
        "cr = co.cursor()"
      ],
      "execution_count": 24,
      "outputs": []
    },
    {
      "cell_type": "code",
      "metadata": {
        "colab": {
          "base_uri": "https://localhost:8080/"
        },
        "id": "lJgEX2-EdC-E",
        "outputId": "dce57173-7731-445a-bdd1-795860de92d1"
      },
      "source": [
        "query = '''delete from data where id =4'''\r\n",
        "\r\n",
        "cr.execute(query)"
      ],
      "execution_count": 25,
      "outputs": [
        {
          "output_type": "execute_result",
          "data": {
            "text/plain": [
              "<sqlite3.Cursor at 0x7fa1b69c2ea0>"
            ]
          },
          "metadata": {
            "tags": []
          },
          "execution_count": 25
        }
      ]
    },
    {
      "cell_type": "code",
      "metadata": {
        "colab": {
          "base_uri": "https://localhost:8080/"
        },
        "id": "FUDOlN0idahr",
        "outputId": "9bb9e11f-f9ec-45b7-cc45-4f4f83329e54"
      },
      "source": [
        "cr.execute('select * from data')\r\n",
        "\r\n",
        "for i in cr.fetchall():\r\n",
        "  print(i)"
      ],
      "execution_count": 26,
      "outputs": [
        {
          "output_type": "stream",
          "text": [
            "(1, 'prashant', 25)\n",
            "(2, 'vivek', 23)\n",
            "(3, 'opinder', 26)\n"
          ],
          "name": "stdout"
        }
      ]
    },
    {
      "cell_type": "code",
      "metadata": {
        "id": "XUHCVNYrdlh6"
      },
      "source": [
        "co.commit()\r\n",
        "co.close()"
      ],
      "execution_count": 27,
      "outputs": []
    },
    {
      "cell_type": "markdown",
      "metadata": {
        "id": "pkifyXU1f16a"
      },
      "source": [
        "### **User Data Input**"
      ]
    },
    {
      "cell_type": "code",
      "metadata": {
        "id": "KQtC5k6idwWi"
      },
      "source": [
        "co = sqlite3.connect('Person.db')\r\n",
        "cr = co.cursor()"
      ],
      "execution_count": 28,
      "outputs": []
    },
    {
      "cell_type": "code",
      "metadata": {
        "colab": {
          "base_uri": "https://localhost:8080/"
        },
        "id": "Dtayg3BjiTs-",
        "outputId": "5253a964-64dd-4b4d-ec53-c3f39dd14395"
      },
      "source": [
        "query = ''' create table data_new\r\n",
        "            (id int not null,\r\n",
        "            name varchar(25),\r\n",
        "             age int not null,\r\n",
        "             primary key(id)\r\n",
        "              ); '''\r\n",
        "cr.execute(query)"
      ],
      "execution_count": 34,
      "outputs": [
        {
          "output_type": "execute_result",
          "data": {
            "text/plain": [
              "<sqlite3.Cursor at 0x7fa1b69dc9d0>"
            ]
          },
          "metadata": {
            "tags": []
          },
          "execution_count": 34
        }
      ]
    },
    {
      "cell_type": "code",
      "metadata": {
        "colab": {
          "base_uri": "https://localhost:8080/"
        },
        "id": "2lp6DYvMgP2j",
        "outputId": "f30150b2-da2e-4903-fbd5-6e7a1ecf1313"
      },
      "source": [
        "print('Enter names of 5 students')\r\n",
        "names = [input('Enter %d name '%i) for i in range(5)]\r\n",
        "print('Enter their ages respectively')\r\n",
        "ages = [int(input('Enter %d age '%i)) for i in range(5)]\r\n",
        "print('''Enter their id's'respectively''')\r\n",
        "pid = [int(input('Enter %d id '%i)) for i in range(5)]"
      ],
      "execution_count": 32,
      "outputs": [
        {
          "output_type": "stream",
          "text": [
            "Enter names of 5 students\n",
            "Enter 0 name sourav\n",
            "Enter 1 name nirajan\n",
            "Enter 2 name opinder\n",
            "Enter 3 name vivek\n",
            "Enter 4 name prashant\n",
            "Enter their ages respectively\n",
            "Enter 0 age 25\n",
            "Enter 1 age 24\n",
            "Enter 2 age 3\n",
            "Enter 3 age 22\n",
            "Enter 4 age 26\n",
            "Enter their id's'respectively\n",
            "Enter 0 id 3\n",
            "Enter 1 id 8\n",
            "Enter 2 id 2\n",
            "Enter 3 id 6\n",
            "Enter 4 id 1\n"
          ],
          "name": "stdout"
        }
      ]
    },
    {
      "cell_type": "code",
      "metadata": {
        "colab": {
          "base_uri": "https://localhost:8080/"
        },
        "id": "VFQ2xSawhOIt",
        "outputId": "3a52c586-9e39-4e62-e958-08caaa18f481"
      },
      "source": [
        "for i in range(len(pid)):\r\n",
        "  cr.execute('''insert into data_new values(?,?,?)''',(pid[i],names[i],ages[i]))\r\n",
        "\r\n",
        "cr.execute('select * from data_new')\r\n",
        "for x in cr.fetchall():\r\n",
        "  print(x)"
      ],
      "execution_count": 36,
      "outputs": [
        {
          "output_type": "stream",
          "text": [
            "(3, 'sourav', 25)\n",
            "(8, 'nirajan', 24)\n",
            "(2, 'opinder', 3)\n",
            "(6, 'vivek', 22)\n",
            "(1, 'prashant', 26)\n"
          ],
          "name": "stdout"
        }
      ]
    },
    {
      "cell_type": "code",
      "metadata": {
        "id": "5siAFbqdi2G1"
      },
      "source": [
        "co.commit()\r\n",
        "co.close()"
      ],
      "execution_count": 37,
      "outputs": []
    },
    {
      "cell_type": "markdown",
      "metadata": {
        "id": "azyhh3r7jcb3"
      },
      "source": [
        "### **Handling Large Data**"
      ]
    },
    {
      "cell_type": "code",
      "metadata": {
        "id": "shubdPH5i8nx"
      },
      "source": [
        "co = sqlite3.connect('Person.db')\r\n",
        "cr = co.cursor()"
      ],
      "execution_count": 38,
      "outputs": []
    },
    {
      "cell_type": "code",
      "metadata": {
        "id": "zi6-YOU-jlfP"
      },
      "source": [
        "scrp ='''create table random\r\n",
        "         (\r\n",
        "           id int not null,\r\n",
        "           name varchar(25),\r\n",
        "           age int,\r\n",
        "           primary key(id)\r\n",
        "         );\r\n",
        "         insert into random\r\n",
        "         values(1,'kamboj',25),(2,'sidhu',22),(3,'singh',26);\r\n",
        "\r\n",
        "         delete from random where id=3;\r\n",
        "\r\n",
        "         insert into random\r\n",
        "         values(4,'yadav',25)\r\n",
        "\r\n",
        "         \r\n",
        "         '''"
      ],
      "execution_count": 44,
      "outputs": []
    },
    {
      "cell_type": "code",
      "metadata": {
        "colab": {
          "base_uri": "https://localhost:8080/"
        },
        "id": "D1rmwmPEkLC0",
        "outputId": "a0ead85a-4013-4acd-a02b-ccc0654c1f38"
      },
      "source": [
        "cr.executescript(scrp)"
      ],
      "execution_count": 45,
      "outputs": [
        {
          "output_type": "execute_result",
          "data": {
            "text/plain": [
              "<sqlite3.Cursor at 0x7fa1b21ebce0>"
            ]
          },
          "metadata": {
            "tags": []
          },
          "execution_count": 45
        }
      ]
    },
    {
      "cell_type": "code",
      "metadata": {
        "colab": {
          "base_uri": "https://localhost:8080/"
        },
        "id": "PlJT7ZkQkRIi",
        "outputId": "d1f638da-2d22-46a8-9062-8fbf4b17c29b"
      },
      "source": [
        "cr.execute('select * from random')\r\n",
        "for i in cr.fetchall():\r\n",
        "  print(i)"
      ],
      "execution_count": 46,
      "outputs": [
        {
          "output_type": "stream",
          "text": [
            "(1, 'kamboj', 25)\n",
            "(2, 'sidhu', 22)\n",
            "(4, 'yadav', 25)\n"
          ],
          "name": "stdout"
        }
      ]
    },
    {
      "cell_type": "code",
      "metadata": {
        "id": "7QW0rprkkU3I"
      },
      "source": [
        "co.commit()\r\n",
        "co.close()"
      ],
      "execution_count": 49,
      "outputs": []
    },
    {
      "cell_type": "markdown",
      "metadata": {
        "id": "ISl_6dmXlSvI"
      },
      "source": [
        "### **Replacing For loop**"
      ]
    },
    {
      "cell_type": "code",
      "metadata": {
        "colab": {
          "base_uri": "https://localhost:8080/"
        },
        "id": "qFt5mFvNlEwN",
        "outputId": "1d87b6a7-c141-4cac-cbb6-23eeab4fe16a"
      },
      "source": [
        "co = sqlite3.connect('Person.db')\r\n",
        "cr = co.cursor()\r\n",
        "\r\n",
        "data_=[(5,'sharma',33),(6,'saini',45),(7,'sikka',38)]\r\n",
        "\r\n",
        "cr.executemany('insert into random values(?,?,?)',data_) # replacing for loop"
      ],
      "execution_count": 53,
      "outputs": [
        {
          "output_type": "execute_result",
          "data": {
            "text/plain": [
              "<sqlite3.Cursor at 0x7fa1b21d2420>"
            ]
          },
          "metadata": {
            "tags": []
          },
          "execution_count": 53
        }
      ]
    },
    {
      "cell_type": "code",
      "metadata": {
        "colab": {
          "base_uri": "https://localhost:8080/"
        },
        "id": "-yvIIkael4VZ",
        "outputId": "deb58529-5dbc-4ae9-e33d-a05890a021d5"
      },
      "source": [
        "cr.execute('select * from random')\r\n",
        "for x in cr.fetchall():\r\n",
        "  print(x)"
      ],
      "execution_count": 54,
      "outputs": [
        {
          "output_type": "stream",
          "text": [
            "(1, 'kamboj', 25)\n",
            "(2, 'sidhu', 22)\n",
            "(4, 'yadav', 25)\n",
            "(5, 'sharma', 33)\n",
            "(6, 'saini', 45)\n",
            "(7, 'sikka', 38)\n"
          ],
          "name": "stdout"
        }
      ]
    },
    {
      "cell_type": "code",
      "metadata": {
        "id": "iIehHa33mI9W"
      },
      "source": [
        "co.commit()\r\n",
        "co.close()"
      ],
      "execution_count": 55,
      "outputs": []
    },
    {
      "cell_type": "code",
      "metadata": {
        "id": "kGw3S2jmmNkA"
      },
      "source": [
        ""
      ],
      "execution_count": null,
      "outputs": []
    }
  ]
}