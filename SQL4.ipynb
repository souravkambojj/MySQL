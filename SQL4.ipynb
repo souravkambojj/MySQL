{
  "nbformat": 4,
  "nbformat_minor": 0,
  "metadata": {
    "colab": {
      "name": "SQL4.ipynb",
      "provenance": [],
      "collapsed_sections": []
    },
    "kernelspec": {
      "name": "python3",
      "display_name": "Python 3"
    }
  },
  "cells": [
    {
      "cell_type": "code",
      "metadata": {
        "id": "tIt9lXS1xwrr"
      },
      "source": [
        "# condition with join\r\n",
        "\r\n",
        "#list all the city names where continent is \"Africa\"\r\n",
        "#select city.name from city inner join country on city.CountryCode = Country.code  and Country.Continent = 'Africa'"
      ],
      "execution_count": 2,
      "outputs": []
    },
    
  
    {
      "cell_type": "code",
      "metadata": {
        "id": "9uYlD2q3yl0a"
      },
      "source": [
        "# Group by with joins\r\n",
        "\r\n",
        "#select Country.Continent, avg(city.population) from city inner join country on city.CountryCode = Country.code  group by Country.Continent"
      ],
      "execution_count": null,
      "outputs": []
    },
    
     {
      "cell_type": "code",
      "metadata": {
        "id": "9uYlD2q3yl0a"
      },
      "source": [
        "# 2nd heighest salary\r\n",
        "\r\n",
        "#select Country.Continent, avg(city.population) from city inner join country on city.CountryCode = Country.code  group by Country.Continent"
      ],
      "execution_count": null,
      "outputs": []
    },
    
    
    {
      "cell_type": "code",
      "metadata": {
        "id": "3OluQxGy27zS"
      },
      "source": [
        "#SQL---Basic Join----The Report\r\n",
        "\r\n",
        "#usually we apply join with a condition left_table.id =  right_table.id\r\n",
        "# here left_table.marks between right_table.min_mark and right_table.max_mark \r\n",
        "\r\n",
        "# select   (case\r\n",
        "#              when g.grade>=8 then s.name\r\n",
        "#              else 'NULL'\r\n",
        "#              end ) as name,  g.grade , s.marks from Students as s inner join Grades as g on \r\n",
        "            \r\n",
        "# s.marks between g.min_mark and g.max_mark \r\n",
        "# order by g.grade desc, (case \r\n",
        "#                         when s.name is null then s.marks\r\n",
        "#                         else s.name\r\n",
        "#                         end) asc"
      ],
      "execution_count": 3,
      "outputs": []
    },
    {
      "cell_type": "code",
      "metadata": {
        "id": "Rk9IO0hH9sR1"
      },
      "source": [
        "#SQL---Basic Join----Top Competitors\r\n",
        "\r\n",
        "# select h.hacker_id, h.name from (((hackers as h inner join Submissions as s on h.hacker_id = s.hacker_id) inner join challenges as c on c.challenge_id = s.challenge_id) inner join \r\n",
        "# difficulty as d on d.difficulty_level = c.difficulty_level) where s.score=d.score\r\n",
        "# group by h.hacker_id, h.name having count(*)>1 order by count(*) desc,h.hacker_id"
      ],
      "execution_count": 4,
      "outputs": []
    },
    {
      "cell_type": "code",
      "metadata": {
        "id": "ZcMSyA5KK6P5"
      },
      "source": [
        "#SQL---Basic Join----Contest Leaderboard\r\n",
        "\r\n",
        "# select h.hacker_id ,h.name ,sum(mst.m_score) as final_score from hackers as h \r\n",
        "# inner join \r\n",
        "# (select  hacker_id as id ,max(score) as m_score  from submissions  group by hacker_id,challenge_id) as mst\r\n",
        "\r\n",
        "# on mst.id = h.hacker_id \r\n",
        "# group by h.hacker_id,h.name having final_score>0 order by final_score desc, h.hacker_id asc"
      ],
      "execution_count": 5,
      "outputs": []
    },
    {
      "cell_type": "markdown",
      "metadata": {
        "id": "bq1__g0KV-Iy"
      },
      "source": [
        "### **Procedures**"
      ]
    },
    {
      "cell_type": "code",
      "metadata": {
        "id": "tp5Ue_FkTeZ_"
      },
      "source": [
        "# draw the triangle 1        \r\n",
        "#  ****\r\n",
        "#  ***\r\n",
        "#  **\r\n",
        "#  *\r\n",
        "\r\n",
        "\r\n",
        "# delimiter //\r\n",
        "# create procedure basic_while()\r\n",
        "# begin\r\n",
        "\r\n",
        "#     set @i :=20;\r\n",
        "    \r\n",
        "#     while @i>0 do\r\n",
        "#         select repeat('* ',@i);\r\n",
        "#         set @i := @i -1;\r\n",
        "#     end while;\r\n",
        "# end//\r\n",
        "# delimiter ;\r\n",
        "\r\n",
        "# call basic_while()"
      ],
      "execution_count": 6,
      "outputs": []
    },
    {
      "cell_type": "code",
      "metadata": {
        "id": "zjIxaxaIV6Hs"
      },
      "source": [
        "#print prime numbers\r\n",
        "\r\n",
        "# delimiter //\r\n",
        "# create procedure list_prime()\r\n",
        "# begin\r\n",
        "#     create table temp\r\n",
        "#     (var int\r\n",
        "#     );\r\n",
        "#     set @i :=2;\r\n",
        "#     set @c :=0;\r\n",
        "#     set @start :=2;\r\n",
        "#     set @end :=1000;\r\n",
        "    \r\n",
        "#     while @start <=@end do   \r\n",
        "#         while @i<=@start do\r\n",
        "#             if  (@start %@i=0 and @start <>@i)  then set @c :=@c+1;\r\n",
        "#             end if;\r\n",
        "#             set @i :=@i +1;\r\n",
        "#         end while; \r\n",
        "#         set @i :=2;\r\n",
        "#         set @start := @start +1; \r\n",
        "        \r\n",
        "#         if @c = 0 then  insert into temp values(@start -1); \r\n",
        "#         else set @c :=0;\r\n",
        "#         end if;     \r\n",
        "#     end while;\r\n",
        "#     select GROUP_CONCAT(var SEPARATOR '&') from temp;\r\n",
        "# end //\r\n",
        "# delimiter ;\r\n",
        "\r\n",
        "# call list_prime()"
      ],
      "execution_count": 7,
      "outputs": []
    },
    {
      "cell_type": "code",
      "metadata": {
        "id": "_m7bPEDOWccy"
      },
      "source": [
        "#sql project planning\r\n",
        "\r\n",
        "# SET sql_mode = '';\r\n",
        "# select Start_Date ,min(End_Date) \r\n",
        "# from  \r\n",
        "# (select Start_Date from Projects where Start_Date not in (select End_Date from Projects)) as a,\r\n",
        "# (select End_Date from Projects where End_Date not in (select Start_Date from Projects )) as b\r\n",
        "# where Start_Date < End_Date\r\n",
        "# group by Start_Date\r\n",
        "# order by DATEDIFF(End_Date,Start_Date) asc, Start_Date asc;"
      ],
      "execution_count": 1,
      "outputs": []
    },
    {
      "cell_type": "code",
      "metadata": {
        "id": "yH9aveNiFEEJ"
      },
      "source": [
        "# new companies\r\n",
        "\r\n",
        "# select c.company_code, c.founder , count(distinct(e.lead_manager_code)),\r\n",
        "# count(distinct( e.senior_manager_code)), count(distinct(e.manager_code)),count(distinct(e.employee_code)) \r\n",
        "# from (employee as e inner join  company as c on c.company_code = e.company_code)\r\n",
        "# group by  c.company_code, c.founder \r\n",
        "# order by e.company_code"
      ],
      "execution_count": 3,
      "outputs": []
    },
    {
      "cell_type": "code",
      "metadata": {
        "id": "nzO9CikJLKiH"
      },
      "source": [
        ""
      ],
      "execution_count": null,
      "outputs": []
    }
  ]
}
