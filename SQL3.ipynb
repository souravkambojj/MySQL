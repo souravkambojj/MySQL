{
  "nbformat": 4,
  "nbformat_minor": 0,
  "metadata": {
    "colab": {
      "name": "SQL3.ipynb",
      "provenance": [],
      "collapsed_sections": [],
      "toc_visible": true
    },
    "kernelspec": {
      "name": "python3",
      "display_name": "Python 3"
    }
  },
  "cells": [
    {
      "cell_type": "markdown",
      "metadata": {
        "id": "uxyjTcskS_4p"
      },
      "source": [
        "### **Joins**"
      ]
    },
    {
      "cell_type": "code",
      "metadata": {
        "id": "cqQLu351TEIy"
      },
      "source": [
        "#A JOIN clause is used to combine rows from two or more tables, based on a related column between them."
      ],
      "execution_count": null,
      "outputs": []
    },
    {
      "cell_type": "markdown",
      "metadata": {
        "id": "E2BF0a2MT1iT"
      },
      "source": [
        "### **Inner Join**"
      ]
    },
    {
      "cell_type": "code",
      "metadata": {
        "id": "iAGK_WQrTWOD"
      },
      "source": [
        "#Returns all the records when there is a match in both tables."
      ],
      "execution_count": null,
      "outputs": []
    },
    {
      "cell_type": "code",
      "metadata": {
        "id": "Aror6V_NYvUZ"
      },
      "source": [
        "#select o.OrderId, c.CustomerName from                                      #two tables\r\n",
        "#Order as o inner join Customer as c \r\n",
        "#on o.CustomerId = c.CustomerId"
      ],
      "execution_count": null,
      "outputs": []
    },
    {
      "cell_type": "code",
      "metadata": {
        "id": "xPNTT8KeZOO9"
      },
      "source": [
        "#select o.OrderId, c.CustomerName, s.ShipperName from\r\n",
        "# ((Order as o inner join Customer as c   on o.CustomerId=c.CustomerId) inner join Shipper as s  on o.ShipperId = c.ShipperId)"
      ],
      "execution_count": null,
      "outputs": []
    },
    {
      "cell_type": "markdown",
      "metadata": {
        "id": "e2xUXvGAV1GB"
      },
      "source": [
        "### **Left Join**"
      ]
    },
    {
      "cell_type": "code",
      "metadata": {
        "id": "WkIJwmykV9z8"
      },
      "source": [
        "#returns all the records from left table and matched records from the right table.\r\n",
        "#the result from right side will be null, if there is no match."
      ],
      "execution_count": null,
      "outputs": []
    },
    {
      "cell_type": "code",
      "metadata": {
        "id": "qM64m4vwZNOs"
      },
      "source": [
        "#select c.CustomerName, o.OrderId from \r\n",
        "#Customer as c  left join  Order as o \r\n",
        "#on c.CutomerId=o.CustomerId     order by c.CustomerName asc"
      ],
      "execution_count": null,
      "outputs": []
    },
    {
      "cell_type": "markdown",
      "metadata": {
        "id": "LiZP6Q08V-wk"
      },
      "source": [
        "### **Right Join**"
      ]
    },
    {
      "cell_type": "code",
      "metadata": {
        "id": "hu4lYe2PWCfI"
      },
      "source": [
        "#returns all the records from right table and matched records from the left table.\r\n",
        "#the result from left side will be null, if there is no match."
      ],
      "execution_count": null,
      "outputs": []
    },
    {
      "cell_type": "code",
      "metadata": {
        "id": "aK5IV4VuhOkW"
      },
      "source": [
        "#select o.OrderId, c.CustomerName from \r\n",
        "#Order as o right join Customer as c \r\n",
        "#on o.CustomerId = c.CustomerId"
      ],
      "execution_count": null,
      "outputs": []
    },
    {
      "cell_type": "markdown",
      "metadata": {
        "id": "DId2dr5AWDR-"
      },
      "source": [
        "### **Full Outer Join**"
      ]
    },
    {
      "cell_type": "code",
      "metadata": {
        "id": "6Ys_dTRTWGJy"
      },
      "source": [
        "#returns all the records when there is a match in either left or right table."
      ],
      "execution_count": null,
      "outputs": []
    },
    {
      "cell_type": "code",
      "metadata": {
        "id": "YFUP6J8Th_oI"
      },
      "source": [
        "#select c.CustomerName, o.OrderId from\r\n",
        "#Customer as c full outer join Order as o\r\n",
        "#on c.CustomerId= o.CustomerId\r\n",
        "#order by c.CustomerName;"
      ],
      "execution_count": null,
      "outputs": []
    },
    {
      "cell_type": "markdown",
      "metadata": {
        "id": "N8Rze1C-WHF4"
      },
      "source": [
        "### **Self Join**"
      ]
    },
    {
      "cell_type": "code",
      "metadata": {
        "id": "1-5L2Cq5WJv3"
      },
      "source": [
        "# a self join is a regular join, but the table is joined by itself"
      ],
      "execution_count": null,
      "outputs": []
    },
    {
      "cell_type": "code",
      "metadata": {
        "id": "0aGptcR3X1i1"
      },
      "source": [
        "#the following SQL satatement will returns the customers that are from same city\r\n",
        "\r\n",
        "#select a.CustomerName as Name1, b.CustomerName as Name2, a.CityName as city from\r\n",
        "#Customer as a, Customer as b\r\n",
        "#where a.CustomerId<>b.CustomerId  and a.CityName = b.CityName    oredr by a.CityName"
      ],
      "execution_count": null,
      "outputs": []
    },
    {
      "cell_type": "markdown",
      "metadata": {
        "id": "ff65Kitmn9vF"
      },
      "source": [
        "### **Union**"
      ]
    },
    {
      "cell_type": "code",
      "metadata": {
        "id": "wQFTAA4MkYZX"
      },
      "source": [
        "#The UNION operator is used to combine the result-set of two or more SELECT statements.\r\n",
        "\r\n",
        "    #Each SELECT statement within UNION must have the same number of columns\r\n",
        "    #The columns must also have similar data types\r\n",
        "    #The columns in each SELECT statement must also be in the same order"
      ],
      "execution_count": null,
      "outputs": []
    },
    {
      "cell_type": "code",
      "metadata": {
        "id": "I8jqFBvGoGMk"
      },
      "source": [
        "# SELECT City, Country FROM Customers\r\n",
        "# WHERE Country='Germany'\r\n",
        "# UNION\r\n",
        "# SELECT City, Country FROM Suppliers\r\n",
        "# WHERE Country='Germany'\r\n",
        "# ORDER BY City;"
      ],
      "execution_count": null,
      "outputs": []
    },
    {
      "cell_type": "markdown",
      "metadata": {
        "id": "SYTwbSuWopZ8"
      },
      "source": [
        "### **Union all**"
      ]
    },
    {
      "cell_type": "code",
      "metadata": {
        "id": "qbdQJD7bowey"
      },
      "source": [
        "#the union operator by default select distint values. To allow duplicate values, use union all;"
      ],
      "execution_count": null,
      "outputs": []
    },
    {
      "cell_type": "code",
      "metadata": {
        "id": "RXJi3265os9I"
      },
      "source": [
        "# SELECT City, Country FROM Customers\r\n",
        "# WHERE Country='Germany'\r\n",
        "# UNION ALL\r\n",
        "# SELECT City, Country FROM Suppliers\r\n",
        "# WHERE Country='Germany'\r\n",
        "# ORDER BY City;"
      ],
      "execution_count": null,
      "outputs": []
    },
    {
      "cell_type": "markdown",
      "metadata": {
        "id": "1BW9xsmTCQFC"
      },
      "source": [
        "### **SQL Constraints**"
      ]
    },
    {
      "cell_type": "code",
      "metadata": {
        "id": "QN6sK5WQDgP1"
      },
      "source": [
        "# Constraints can be specified when the table is created with the CREATE TABLE statement, \r\n",
        "# or after the table is created with the ALTER TABLE statement."
      ],
      "execution_count": null,
      "outputs": []
    },
    {
      "cell_type": "markdown",
      "metadata": {
        "id": "glWgts9cEvGw"
      },
      "source": [
        "### **Not Null**"
      ]
    },
    {
      "cell_type": "code",
      "metadata": {
        "id": "UtgpEKW_EaTq"
      },
      "source": [
        "#It ensures that a column can't have a NULL value."
      ],
      "execution_count": null,
      "outputs": []
    },
    {
      "cell_type": "code",
      "metadata": {
        "id": "F7jarzJ_Fje1"
      },
      "source": [
        "#1 while creating table\r\n",
        "\r\n",
        "# CREATE TABLE Persons (\r\n",
        "#     ID int NOT NULL,\r\n",
        "#     LastName varchar(255) NOT NULL,\r\n",
        "#     FirstName varchar(255) NOT NULL,\r\n",
        "#     Age int\r\n",
        "# );\r\n",
        "\r\n",
        "#2 when table is already created\r\n",
        "\r\n",
        "# ALTER TABLE Persons\r\n",
        "# MODIFY Age int NOT NULL;"
      ],
      "execution_count": null,
      "outputs": []
    },
    {
      "cell_type": "markdown",
      "metadata": {
        "id": "qWO8xV5rIqDt"
      },
      "source": [
        "### **Unique**"
      ]
    },
    {
      "cell_type": "code",
      "metadata": {
        "id": "KiZik0boF6rg"
      },
      "source": [
        "# it ensures that all the values in a column are different."
      ],
      "execution_count": null,
      "outputs": []
    },
    {
      "cell_type": "code",
      "metadata": {
        "id": "EjOFsJKhJMIE"
      },
      "source": [
        "#1 while table creation\r\n",
        "\r\n",
        "# CREATE TABLE Persons (\r\n",
        "#     ID int NOT NULL,\r\n",
        "#     LastName varchar(255) NOT NULL,\r\n",
        "#     FirstName varchar(255),\r\n",
        "#     Age int,\r\n",
        "#     UNIQUE (ID)\r\n",
        "# );\r\n",
        "\r\n",
        "#2 To name a UNIQUE constraint, and to define a UNIQUE constraint on multiple columns\r\n",
        "\r\n",
        "# CREATE TABLE Persons (\r\n",
        "#     ID int NOT NULL,\r\n",
        "#     LastName varchar(255) NOT NULL,\r\n",
        "#     FirstName varchar(255),\r\n",
        "#     Age int,\r\n",
        "#     CONSTRAINT UC_Person UNIQUE (ID,LastName)\r\n",
        "# );\r\n",
        "\r\n",
        "#3 To create a UNIQUE constraint on the \"ID\" column when the table is already created\r\n",
        "\r\n",
        "# Alter table Persons\r\n",
        "# add unique(ID);\r\n",
        "\r\n",
        "#4 To name a UNIQUE constraint, and to define a UNIQUE constraint on multiple columns\r\n",
        "\r\n",
        "# Alter table Persons\r\n",
        "# add constraint uc_id unique(ID,LastName);\r\n",
        "\r\n",
        "#5 To drop a UNIQUE constraint\r\n",
        "\r\n",
        "# Alter table Persons\r\n",
        "# drop INDEX uc_id;"
      ],
      "execution_count": null,
      "outputs": []
    },
    {
      "cell_type": "markdown",
      "metadata": {
        "id": "XaFkJsJmMMIQ"
      },
      "source": [
        "### **Primary Key**"
      ]
    },
    {
      "cell_type": "code",
      "metadata": {
        "id": "x5dbhUmOLc9H"
      },
      "source": [
        "# PRIMARY KEY: A combination of NOT NULL and UNIQUE.\r\n",
        "# A table can have many UNIQUE Constraints but can have only one PRIMARY KEY.\r\n",
        "# A PRIMARY KEY can consist of a single or multiple columns (fields)."
      ],
      "execution_count": null,
      "outputs": []
    },
    {
      "cell_type": "code",
      "metadata": {
        "id": "a5xNpy6BNbK2"
      },
      "source": [
        "#1 while table creation\r\n",
        "\r\n",
        "# CREATE TABLE Persons (\r\n",
        "#     ID int NOT NULL,\r\n",
        "#     LastName varchar(255) NOT NULL,\r\n",
        "#     FirstName varchar(255),\r\n",
        "#     Age int,\r\n",
        "#     PRIMARY KEY (ID)\r\n",
        "# );\r\n",
        "\r\n",
        "#2 To name a PRIMARY KEY constraint, and to defe a PRIMARY KEY constraint on multiple columns\r\n",
        "\r\n",
        "# CREATE TABLE Persons (\r\n",
        "#     ID int NOT NULL,\r\n",
        "#     LastName varchar(255) NOT NULL,\r\n",
        "#     FirstName varchar(255),\r\n",
        "#     Age int,\r\n",
        "#     CONSTRAINT PK_Person PRIMARY KEY (ID,LastName)\r\n",
        "# );\r\n",
        "\r\n",
        "##########  Note: In the example above there is only ONE PRIMARY KEY (PK_Person).\r\n",
        "########## However, the VALUE of the primary key is made up of TWO COLUMNS (ID + LastName).\r\n",
        "\r\n",
        "\r\n",
        "#3 To create a PRIMARY KEY constraint on the \"ID\" column when the table is already created\r\n",
        "\r\n",
        "# ALTER TABLE Persons\r\n",
        "# ADD PRIMARY KEY (ID);\r\n",
        "\r\n",
        "#4 To name a PRIMARY KEY constraint, and for defining a PRIMARY KEY constraint on multiple columns\r\n",
        "\r\n",
        "# ALTER TABLE Persons\r\n",
        "# ADD CONSTRAINT PK_id PRIMARY KEY (ID,LastName);\r\n",
        "\r\n",
        "\r\n",
        "#5 To drop a PRIMARY KEY constraint\r\n",
        "\r\n",
        "# ALTER TABLE Persons\r\n",
        "# DROP PRIMARY KEY;"
      ],
      "execution_count": null,
      "outputs": []
    },
    {
      "cell_type": "markdown",
      "metadata": {
        "id": "Eo1URYdhPclr"
      },
      "source": [
        "### **Foreign Key**"
      ]
    },
    {
      "cell_type": "code",
      "metadata": {
        "id": "hBh4QaRlPXW_"
      },
      "source": [
        "# FOREIGN KEY - Prevents actions that would destroy links between tables\r\n",
        "\r\n",
        "#The table with the foreign key is called the child table,\r\n",
        "# and the table with the primary key is called the referenced or parent table."
      ],
      "execution_count": null,
      "outputs": []
    },
    {
      "cell_type": "code",
      "metadata": {
        "id": "QhBC3KFqbG4S"
      },
      "source": [
        "#1 while table creation:\r\n",
        "\r\n",
        "# CREATE TABLE Orders (\r\n",
        "#     OrderID int NOT NULL,\r\n",
        "#     OrderNumber int NOT NULL,\r\n",
        "#     PersonID int,\r\n",
        "#     PRIMARY KEY (OrderID),\r\n",
        "#     FOREIGN KEY (PersonID) REFERENCES Persons(PersonID)\r\n",
        "# );\r\n",
        "\r\n",
        "#2 To name a Forign key constraint while table creation:\r\n",
        "\r\n",
        "# CREATE TABLE Orders (\r\n",
        "#     OrderID int NOT NULL,\r\n",
        "#     OrderNumber int NOT NULL,\r\n",
        "#     PersonID int,\r\n",
        "#     PRIMARY KEY (OrderID),\r\n",
        "#     CONSTRAINT FK_PersonOrder FOREIGN KEY (PersonID) REFERENCES Persons(PersonID)\r\n",
        "# );\r\n",
        "\r\n",
        "#3 Two foreign keys:\r\n",
        "\r\n",
        "# CREATE TABLE comments(\r\n",
        "# \tid INT AUTO_INCREMENT,\r\n",
        "#     post_id INT,\r\n",
        "#     user_id INT,\r\n",
        "#     body TEXT,\r\n",
        "#     publish_date DATETIME DEFAULT CURRENT_TIMESTAMP,\r\n",
        "#     PRIMARY KEY(id),\r\n",
        "#     FOREIGN KEY(user_id) references users(id),\r\n",
        "#     FOREIGN KEY(post_id) references posts(id)\r\n",
        "# );\r\n",
        "\r\n",
        "\r\n",
        "#3 To create a FOREIGN KEY constraint on the \"PersonID\" column \r\n",
        "#  when the \"Orders\" table is already created\r\n",
        "\r\n",
        "# ALTER TABLE Orders\r\n",
        "# ADD FOREIGN KEY (PersonID) REFERENCES Persons(PersonID);\r\n",
        "\r\n",
        "\r\n",
        "#4 To allow naming of a FOREIGN KEY constraint, \r\n",
        "# and for defining a FOREIGN KEY constraint on multiple columns\r\n",
        "\r\n",
        "# ALTER TABLE Orders\r\n",
        "# ADD CONSTRAINT FK_PersonOrder FOREIGN KEY (PersonID) REFERENCES Persons(PersonID);\r\n",
        "\r\n",
        "\r\n",
        "#5 To drop a FOREIGN KEY constraint \r\n",
        "\r\n",
        "# ALTER TABLE Orders\r\n",
        "# DROP FOREIGN KEY FK_PersonOrder;"
      ],
      "execution_count": null,
      "outputs": []
    },
    {
      "cell_type": "markdown",
      "metadata": {
        "id": "wEPOOM-ejMNa"
      },
      "source": [
        "### **Check**"
      ]
    },
    {
      "cell_type": "code",
      "metadata": {
        "id": "G9wky8IDc7no"
      },
      "source": [
        "# CHECK - Ensures that the values in a column satisfies a specific condition"
      ],
      "execution_count": null,
      "outputs": []
    },
    {
      "cell_type": "code",
      "metadata": {
        "id": "cSANnw7GjTa1"
      },
      "source": [
        "#1 To allow naming of a CHECK constraint, and for defining a CHECK constraint on multiple columns\r\n",
        "\r\n",
        "# CREATE TABLE Persons (\r\n",
        "#     ID int NOT NULL,\r\n",
        "#     LastName varchar(255) NOT NULL,\r\n",
        "#     FirstName varchar(255),\r\n",
        "#     Age int,\r\n",
        "#     City varchar(255),\r\n",
        "#     CONSTRAINT CHK_Person CHECK (Age>=18 AND City='Sandnes')\r\n",
        "# );\r\n",
        "\r\n",
        "#2 To create a CHECK constraint on the \"Age\" column when the table is already created\r\n",
        "\r\n",
        "# ALTER TABLE Persons\r\n",
        "# ADD CHECK (Age>=18);\r\n",
        "\r\n",
        "#3 To allow naming of a CHECK constraint, and for defining a CHECK constraint on multiple columns\r\n",
        "\r\n",
        "# ALTER TABLE Persons\r\n",
        "# ADD CONSTRAINT CHK_PersonAge CHECK (Age>=18 AND City='Sandnes');\r\n",
        "\r\n",
        "\r\n",
        "#4 To drop a CHECK constraint\r\n",
        "\r\n",
        "# ALTER TABLE Persons\r\n",
        "# DROP CHECK CHK_PersonAge;"
      ],
      "execution_count": null,
      "outputs": []
    },
    {
      "cell_type": "markdown",
      "metadata": {
        "id": "N-JfsRV7kPWa"
      },
      "source": [
        "### **Default**"
      ]
    },
    {
      "cell_type": "code",
      "metadata": {
        "id": "xdmaDyB5kV-O"
      },
      "source": [
        "#DEFAULT - Sets a default value for a column if no value is specified"
      ],
      "execution_count": null,
      "outputs": []
    },
    {
      "cell_type": "code",
      "metadata": {
        "id": "P1E8fhDUkg-k"
      },
      "source": [
        "#1 while table creation\r\n",
        "\r\n",
        "# CREATE TABLE Persons (\r\n",
        "#     ID int NOT NULL,\r\n",
        "#     LastName varchar(255) NOT NULL,\r\n",
        "#     FirstName varchar(255),\r\n",
        "#     Age int,\r\n",
        "#     City varchar(255) DEFAULT 'Fazilka'\r\n",
        "# );\r\n",
        "\r\n",
        "#2 To create a DEFAULT constraint on the \"City\" column when the table is already created\r\n",
        "\r\n",
        "# ALTER TABLE Persons\r\n",
        "# ALTER City SET DEFAULT 'Sandnes';\r\n",
        "\r\n",
        "#3 To drop a DEFAULT constraint\r\n",
        "\r\n",
        "# ALTER TABLE Persons\r\n",
        "# ALTER City DROP DEFAULT;"
      ],
      "execution_count": null,
      "outputs": []
    },
    {
      "cell_type": "markdown",
      "metadata": {
        "id": "gNdIQ4RFoJgb"
      },
      "source": [
        "### **Create Index**"
      ]
    },
    {
      "cell_type": "code",
      "metadata": {
        "id": "IeMHjz8ilH2-"
      },
      "source": [
        "#CREATE INDEX - used to create indexes in tables."
      ],
      "execution_count": null,
      "outputs": []
    },
    {
      "cell_type": "code",
      "metadata": {
        "id": "folA9XkLoPQ3"
      },
      "source": [
        "# Indexes are used to retrieve data from the database more quickly than otherwise.\r\n",
        "# The users cannot see the indexes, they are just used to speed up searches/queries."
      ],
      "execution_count": null,
      "outputs": []
    },
    {
      "cell_type": "code",
      "metadata": {
        "id": "L-XqqMVhonGo"
      },
      "source": [
        "#Note: Updating a table with indexes takes more time than updating a table without\r\n",
        "# (because the indexes also need an update)."
      ],
      "execution_count": null,
      "outputs": []
    },
    {
      "cell_type": "code",
      "metadata": {
        "id": "kTUdoe6lo0Ai"
      },
      "source": [
        "#1 INDEX\r\n",
        "\r\n",
        "# CREATE INDEX index_name\r\n",
        "# ON table_name (column1, column2, ...);\r\n",
        "\r\n",
        "\r\n",
        "#2 UNIQUE INDEX\r\n",
        "\r\n",
        "# CREATE UNIQUE INDEX index_name\r\n",
        "# ON table_name (column1, column2, ...);"
      ],
      "execution_count": null,
      "outputs": []
    },
    {
      "cell_type": "code",
      "metadata": {
        "id": "yVCNKiJ9pRTt"
      },
      "source": [
        "# Drop Index\r\n",
        "\r\n",
        "# ALTER TABLE table_name\r\n",
        "# DROP INDEX index_name;"
      ],
      "execution_count": null,
      "outputs": []
    },
    {
      "cell_type": "markdown",
      "metadata": {
        "id": "JrP7DQmhq_iv"
      },
      "source": [
        "### **Auto Increment**"
      ]
    },
    {
      "cell_type": "code",
      "metadata": {
        "id": "Ks-jZiOArDOb"
      },
      "source": [
        "# CREATE TABLE Persons (\r\n",
        "#     Personid int NOT NULL AUTO_INCREMENT,\r\n",
        "#     LastName varchar(255) NOT NULL,\r\n",
        "#     FirstName varchar(255),\r\n",
        "#     Age int,\r\n",
        "#     PRIMARY KEY (Personid)\r\n",
        "# );"
      ],
      "execution_count": null,
      "outputs": []
    },
    {
      "cell_type": "code",
      "metadata": {
        "id": "pt9W4inDrVgq"
      },
      "source": [
        "# By default, the starting value for AUTO_INCREMENT is 1, and it will increment by 1 for each new record.\r\n",
        "# To let the AUTO_INCREMENT sequence start with another value uss the following command:\r\n",
        "\r\n",
        "# ALTER TABLE Persons AUTO_INCREMENT=100;"
      ],
      "execution_count": null,
      "outputs": []
    },
    {
      "cell_type": "markdown",
      "metadata": {
        "id": "17b9kkL9rUxs"
      },
      "source": [
        ""
      ]
    }
  ]
}