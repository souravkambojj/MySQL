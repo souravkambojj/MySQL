{
  "nbformat": 4,
  "nbformat_minor": 0,
  "metadata": {
    "colab": {
      "provenance": [],
      "collapsed_sections": []
    },
    "kernelspec": {
      "name": "python3",
      "display_name": "Python 3"
    },
    "language_info": {
      "name": "python"
    }
  },
  "cells": [
    {
      "cell_type": "code",
      "execution_count": 1,
      "metadata": {
        "id": "_zCCleiElCSi"
      },
      "outputs": [],
      "source": [
        "#nth-highest\n",
        "#select Name, salary from  employee\n",
        "#where salary = (select distinct(salary) from employee order by salary desc limit n-1,1)"
      ]
    },
    {
      "cell_type": "code",
      "source": [
        "#highest\n",
        "#select Name, salary from  employee\n",
        "#where salary = (select distinct(salary) from employee order by salary desc limit 0,1)\n",
        "\n",
        "#                     or\n",
        "\n",
        "#select Name, salary from  employee \n",
        "#where salary = (select max(salary) from employee)"
      ],
      "metadata": {
        "id": "zxdBfyPrlRMo"
      },
      "execution_count": 2,
      "outputs": []
    },
    {
      "cell_type": "code",
      "source": [
        "#2nd-heighest\n",
        "#select Name, salary from  employee\n",
        "#where salary = (select distinct(salary) from employee order by salary desc limit 1,1)\n",
        "\n",
        "#                     or\n",
        "\n",
        "#select Name, salary from  employee \n",
        "#where salary = (select max(salary) from employee where salary < (select max(salary) from employee))"
      ],
      "metadata": {
        "id": "hsV0FOezmgHA"
      },
      "execution_count": 3,
      "outputs": []
    },
    {
      "cell_type": "code",
      "source": [
        "#3rd-heighest\n",
        "#select Name, salary from  employee\n",
        "#where salary = (select distinct(salary) from employee order by salary desc limit 2,1)\n",
        "\n",
        "#                     or\n",
        "\n",
        "#select Name, salary from  employee \n",
        "#where salary = (select max(salary) from employee where salary< (select max(salary) from employee where salary < (select max(salary) from employee)))\n"
      ],
      "metadata": {
        "id": "SLf_KT4xmwnd"
      },
      "execution_count": 4,
      "outputs": []
    },
    {
      "cell_type": "code",
      "source": [],
      "metadata": {
        "id": "UieFDQ-jozfH"
      },
      "execution_count": null,
      "outputs": []
    }
  ]
}