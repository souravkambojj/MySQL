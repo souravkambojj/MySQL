{
  "nbformat": 4,
  "nbformat_minor": 0,
  "metadata": {
    "colab": {
      "provenance": [],
      "collapsed_sections": []
    },
    "kernelspec": {
      "name": "python3",
      "display_name": "Python 3"
    },
    "language_info": {
      "name": "python"
    }
  },
  "cells": [
    {
      "cell_type": "code",
      "source": [
        "#nth-highest\n",
        "#select Name, salary from  employee\n",
        "#where salary = (select distinct(salary) from employee order by salary desc limit n-1,1)"
      ],
      "metadata": {
        "id": "S4_rQXGYPQMm"
      },
      "execution_count": 2,
      "outputs": []
    },
    {
      "cell_type": "code",
      "source": [
        "#highest\n",
        "#select Name, salary from  employee\n",
        "#where salary = (select distinct(salary) from employee order by salary desc limit 0,1)\n",
        "#                                  or\n",
        "#select Name, salary FROM employee where salary = (select max(salary) from  employee)",
      ],
      "metadata": {
        "id": "HBRGh_ZAQ2Bs"
      },
      "execution_count": 5,
      "outputs": []
    },
    {
      "cell_type": "code",
      "source": [
        "#2nd-highest\n",
        "#select Name, salary from  employee\n",
        "#where salary = (select distinct(salary) from employee order by salary desc limit 2,1)"
      ],
      "metadata": {
        "id": "fmUvnxJrRV3z"
      },
      "execution_count": 6,
      "outputs": []
    },
    {
      "cell_type": "code",
      "source": [
        "#3rd-highest\n",
        "#select Name, salary from  employee\n",
        "#where salary = (select distinct(salary) from employee order by salary desc limit 3,1)"
      ],
      "metadata": {
        "id": "e1Rw23qbRWL0"
      },
      "execution_count": 7,
      "outputs": []
    },
    {
      "cell_type": "code",
      "source": [],
      "metadata": {
        "id": "FhsstzBtRW1R"
      },
      "execution_count": null,
      "outputs": []
    }
  ]
}
