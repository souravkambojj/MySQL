{
  "nbformat": 4,
  "nbformat_minor": 0,
  "metadata": {
    "colab": {
      "provenance": [],
      "collapsed_sections": []
    },
    "kernelspec": {
      "name": "python3",
      "display_name": "Python 3"
    },
    "language_info": {
      "name": "python"
    }
  },
  "cells": [
    {
      "cell_type": "code",
      "source": [
        "#nth-highest\n",
        "#select Name, salary from  employee\n",
        "#where salary = (select distinct(salary) from employee order by salary desc limit n-1,1)"
      ],
      "metadata": {
        "id": "4hs_swEZHUk2"
      },
      "execution_count": 4,
      "outputs": []
    },
    {
      "cell_type": "code",
      "source": [
        "#highest\n",
        "#select Name, salary from  employee\n",
        "#where salary = (select distinct(salary) from employee order by salary desc limit 0,1)\n",
        "\n",
        "#                     or\n",
        "\n",
        "#select Name, salary from  employee \n",
        "#where salary = (select max(salary) from employee)"
      ],
      "metadata": {
        "id": "GaYb4noZIPxC"
      },
      "execution_count": 5,
      "outputs": []
    },
    {
      "cell_type": "code",
      "source": [
        "#2nd-heighest\n",
        "#select Name, salary from  employee\n",
        "#where salary = (select distinct(salary) from employee order by salary desc limit 1,1)\n",
        "\n",
        "#                     or\n",
        "\n",
        "#select Name, salary from  employee \n",
        "#where salary = (select max(salary) from employee where salary < (select max(salary) from employee))"
      ],
      "metadata": {
        "id": "xbyuQ8G-ISxP"
      },
      "execution_count": 6,
      "outputs": []
    },
    {
      "cell_type": "code",
      "source": [
        "#3rd-heighest\n",
        "#select Name, salary from  employee\n",
        "#where salary = (select distinct(salary) from employee order by salary desc limit 2,1)\n",
        "\n",
        "#                     or\n",
        "\n",
        "#select Name, salary from  employee \n",
        "#where salary = (select max(salary) from employee where salary< (select max(salary) from employee\n",
        "#where salary < (select max(salary) from employee)))"
      ],
      "metadata": {
        "id": "f0lGGcqlIV5F"
      },
      "execution_count": 8,
      "outputs": []
    },
    {
      "cell_type": "markdown",
      "source": [
        "**Highest Salary of each group**"
      ],
      "metadata": {
        "id": "-wkoIVi_IlDN"
      }
    },
    {
      "cell_type": "code",
      "source": [
        "#select name,dname,salary from epmloyee where (dname,salary) in (select dname, max(salary) from employee group by dname)"
      ],
      "metadata": {
        "id": "X8H76FxvIbZN"
      },
      "execution_count": 9,
      "outputs": []
    },
    {
      "cell_type": "markdown",
      "source": [
        "**2nd highest salary of each group**"
      ],
      "metadata": {
        "id": "vimp8asHKXS9"
      }
    },
    {
      "cell_type": "markdown",
      "source": [
        "http://www.crazyforcode.com/find-highest-salary-group-by-department/"
      ],
      "metadata": {
        "id": "OYQ3BQ8GNWbd"
      }
    },
    {
      "cell_type": "code",
      "source": [
        "# maximum salary in each department.\n",
        "\n",
        "#select dname, max(salary) as msalary from employee group by dname"
      ],
      "metadata": {
        "id": "CPs_ErgUN5Rw"
      },
      "execution_count": 10,
      "outputs": []
    },
    {
      "cell_type": "code",
      "source": [
        "#salaries excluding the maximum salary for each department.\n",
        "\n",
        "# select t1.dname as id ,t1.salary as s1, t2.msalary as s2 \n",
        "# from employee as t1    inner join   (select dname, max(salary) as msalary from employee group by dname) as t2\n",
        "# on t1.dname=t2.dname and t1.salary<t2.salary"
      ],
      "metadata": {
        "id": "7dNGoYeoKUjS"
      },
      "execution_count": 11,
      "outputs": []
    },
    {
      "cell_type": "code",
      "source": [
        "#maximum salary for each department\n",
        "\n",
        "# select emp.id, max(emp.s1)  from\n",
        "# (select t1.dname as id ,t1.salary as s1, t2.msalary as s2 \n",
        "# from employee as t1    inner join   (select dname, max(salary) as msalary from employee group by dname) as t2\n",
        "# on t1.dname=t2.dname and t1.salary<t2.salary) as emp\n",
        "# group by emp.id \n",
        "\n"
      ],
      "metadata": {
        "id": "MazfG8v_OMUQ"
      },
      "execution_count": 12,
      "outputs": []
    },
    {
      "cell_type": "code",
      "source": [],
      "metadata": {
        "id": "UkQRHEcfPOFx"
      },
      "execution_count": null,
      "outputs": []
    }
  ]
}