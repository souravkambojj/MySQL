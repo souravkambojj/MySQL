{
  "nbformat": 4,
  "nbformat_minor": 0,
  "metadata": {
    "colab": {
      "name": "SQL1.ipynb",
      "provenance": [],
      "collapsed_sections": []
    },
    "kernelspec": {
      "name": "python3",
      "display_name": "Python 3"
    }
  },
  "cells": [
    {
      "cell_type": "markdown",
      "metadata": {
        "id": "gfGQE265Wf03"
      },
      "source": [
        "## SQL\r\n"
      ]
    },
    {
      "cell_type": "code",
      "metadata": {
        "id": "sO9GofT5WhYq"
      },
      "source": [
        "#structured query language"
      ],
      "execution_count": null,
      "outputs": []
    },
    {
      "cell_type": "code",
      "metadata": {
        "id": "7fZ7BO2mWpqE"
      },
      "source": [
        "#This is a std. database language used by all RDBMS(like Mysql, SQLserver, Oracle, Msaccess, Informix, Postgres)\r\n",
        "#for storing, retrieving and manipulating the data from their databases."
      ],
      "execution_count": null,
      "outputs": []
    },
    {
      "cell_type": "code",
      "metadata": {
        "id": "NTX4GG3qXRph"
      },
      "source": [
        "#In RDBMS data is stored in the from of tables:\r\n",
        "  #Each field is a column in the table.\r\n",
        "  #Each record is a row in the table."
      ],
      "execution_count": null,
      "outputs": []
    },
    {
      "cell_type": "code",
      "metadata": {
        "id": "UDnf9JnfYPuQ"
      },
      "source": [
        "# SQl  Keywords are not case sensitive: select is same as SELECT.\r\n",
        "  #but field names and data in the table cells is case sensitive."
      ],
      "execution_count": null,
      "outputs": []
    },
    {
      "cell_type": "markdown",
      "metadata": {
        "id": "VrY9ZgZpY8f1"
      },
      "source": [
        "## Select"
      ]
    },
    {
      "cell_type": "code",
      "metadata": {
        "id": "ze6Bom9zY_mM"
      },
      "source": [
        "# select * from Table_name;"
      ],
      "execution_count": null,
      "outputs": []
    },
    {
      "cell_type": "code",
      "metadata": {
        "id": "Pu4Vn9sjZR5B"
      },
      "source": [
        "# select col1, col2,...,coln from table_name;"
      ],
      "execution_count": null,
      "outputs": []
    },
    {
      "cell_type": "code",
      "metadata": {
        "id": "GO7PpjpHZayC"
      },
      "source": [
        "# select distinct coln from table_name;                   #it retrurns unique entries of coln"
      ],
      "execution_count": null,
      "outputs": []
    },
    {
      "cell_type": "code",
      "metadata": {
        "id": "V6vHPlTJZfrA"
      },
      "source": [
        "# select distinct col1, col2, col3 from table_name;       # it will return all the records(only for col1,col2,col3) against the unique entries of col1"
      ],
      "execution_count": null,
      "outputs": []
    },
    {
      "cell_type": "markdown",
      "metadata": {
        "id": "hiLTzc7meNUD"
      },
      "source": [
        "## Where Clause"
      ]
    },
    {
      "cell_type": "code",
      "metadata": {
        "id": "gc8yVzKkeTKR"
      },
      "source": [
        "# select col1,col2,..,coln from table_name  where condition;"
      ],
      "execution_count": null,
      "outputs": []
    },
    {
      "cell_type": "markdown",
      "metadata": {
        "id": "S0Kur-K05aqm"
      },
      "source": [
        "## Operators in where clause\r\n"
      ]
    },
    {
      "cell_type": "code",
      "metadata": {
        "id": "aq_a9HMLescw"
      },
      "source": [
        "#SELECT * FROM Customers WHERE Country = 'Germany'\r\n",
        "#SELECT * FROM Customers WHERE id=25"
      ],
      "execution_count": null,
      "outputs": []
    },
    {
      "cell_type": "code",
      "metadata": {
        "id": "_v3Vp6GLtspJ"
      },
      "source": [
        "#SELECT * FROM Customers WHERE Country<>'Mexico';"
      ],
      "execution_count": null,
      "outputs": []
    },
    {
      "cell_type": "code",
      "metadata": {
        "id": "5pZyfUPt5z2E"
      },
      "source": [
        "#SELECT * FROM Products WHERE Price > 30;\r\n",
        "#SELECT * FROM Products WHERE Price < 100;     "
      ],
      "execution_count": null,
      "outputs": []
    },
    {
      "cell_type": "code",
      "metadata": {
        "id": "SS9k1ovZtI1j"
      },
      "source": [
        "#SELECT * FROM Products WHERE Price <= 50;\r\n",
        "#SELECT * FROM Products WHERE Price >= 50;"
      ],
      "execution_count": null,
      "outputs": []
    },
    {
      "cell_type": "code",
      "metadata": {
        "id": "7yPcjmKwtawr"
      },
      "source": [
        "#SELECT * FROM Products WHERE Price BETWEEN 50 AND 60;                       #selects values within a given range.\r\n",
        "#SELECT * FROM Products WHERE Price not BETWEEN 50 AND 60;"
      ],
      "execution_count": null,
      "outputs": []
    },
    {
      "cell_type": "code",
      "metadata": {
        "id": "V9L1kOQlu-CG"
      },
      "source": [
        "#SELECT * FROM Customers where City in ('London','Lille','Sevilla')             #for string matching\r\n",
        "#SELECT * FROM Customers where City not in ('London','Lille','Sevilla')\r\n",
        "\r\n",
        "#SELECT ProductName, Price FROM Products WHERE Price in (10 , 20,30)            #for numeric values"
      ],
      "execution_count": null,
      "outputs": []
    },
    {
      "cell_type": "code",
      "metadata": {
        "id": "26UcP1LCvCW6"
      },
      "source": [
        "# SELECT * FROM Customers WHERE City LIKE 'f%';                              #used to search for a specified pattern in a column.\r\n",
        "# SELECT * FROM Customers WHERE City LIKE '%i%';\r\n",
        "# SELECT * FROM Customers WHERE City LIKE '_u%';"
      ],
      "execution_count": null,
      "outputs": []
    },
    {
      "cell_type": "markdown",
      "metadata": {
        "id": "SgCTjejw7ChN"
      },
      "source": [
        "### WildCards"
      ]
    },
    {
      "cell_type": "code",
      "metadata": {
        "id": "wnQbrOEW7FAW"
      },
      "source": [
        "# '%'     zero,one or more characters\r\n",
        "#SELECT * FROM Customers WHERE City LIKE '%es%';"
      ],
      "execution_count": null,
      "outputs": []
    },
    {
      "cell_type": "code",
      "metadata": {
        "id": "QuPvkEY28RIU"
      },
      "source": [
        "# '_' a single character\r\n",
        "#SELECT * FROM Customers WHERE City LIKE 'L_n_on';"
      ],
      "execution_count": null,
      "outputs": []
    },
    {
      "cell_type": "code",
      "metadata": {
        "id": "AjEJomcw8Zpk"
      },
      "source": [
        "#'[]' any single character within the brackets\r\n",
        "#SELECT * FROM Customers WHERE City LIKE '[lbs]%';"
      ],
      "execution_count": null,
      "outputs": []
    },
    {
      "cell_type": "code",
      "metadata": {
        "id": "8xqfl_Sq8x7Y"
      },
      "source": [
        "#'[-]' a range of characters\r\n",
        "#SELECT * FROM Customers WHERE City LIKE '[b-p]%';\r\n",
        "#SELECT * FROM Customers WHERE City NOT LIKE '[b-p]%';"
      ],
      "execution_count": null,
      "outputs": []
    },
    {
      "cell_type": "markdown",
      "metadata": {
        "id": "2ip9s0g1hdBp"
      },
      "source": [
        "### **REGEXP**"
      ]
    },
    {
      "cell_type": "markdown",
      "metadata": {
        "id": "bwU8Gn2Mh_LO"
      },
      "source": [
        "Outside [ ] brackets--- ^ indicates begining of string. $ indicates end of string "
      ]
    },
    {
      "cell_type": "markdown",
      "metadata": {
        "id": "Z3TCqz1bik3F"
      },
      "source": [
        "Inside [ ] brackets --- ^ indicates not"
      ]
    },
    {
      "cell_type": "code",
      "metadata": {
        "id": "Zsp_RNBghpCX"
      },
      "source": [
        "#1 Query the list of CITY names starting with vowels (i.e., a, e, i, o, or u) from STATION.\r\n",
        "# Your result cannot contain duplicates.\r\n",
        "\r\n",
        "#select distinct(CITY) from STATION where CITY regexp '^[aeiou]'"
      ],
      "execution_count": null,
      "outputs": []
    },
    {
      "cell_type": "code",
      "metadata": {
        "id": "S1fsNjgkhzba"
      },
      "source": [
        "#2  CITY names ending with vowels (a, e, i, o, u) from STATION\r\n",
        "\r\n",
        "#select distinct(CITY) from STATION where CITY regexp '[aeiou]$'"
      ],
      "execution_count": null,
      "outputs": []
    },
    {
      "cell_type": "code",
      "metadata": {
        "id": "_cEGgQEHjKa-"
      },
      "source": [
        "#3  CITY names from STATION which have vowels as both their first and last characters.\r\n",
        "\r\n",
        "#select distinct(CITY) from STATION where CITY REGEXP '^[aeiou]' and CITY REGEXP '[aeiou]$'"
      ],
      "execution_count": null,
      "outputs": []
    },
    {
      "cell_type": "code",
      "metadata": {
        "id": "SOduqRzGjKeF"
      },
      "source": [
        "#4 CITY names from STATION that do not start with vowels\r\n",
        "\r\n",
        "#select distinct(CITY) from STATION where CITY regexp '^[^aeiou]' "
      ],
      "execution_count": null,
      "outputs": []
    },
    {
      "cell_type": "code",
      "metadata": {
        "id": "dk3f_LmkjKil"
      },
      "source": [
        "#5 CITY names from STATION that do not end with vowels.\r\n",
        "\r\n",
        "#select distinct(CITY) from STATION where CITY regexp '[^aeiou]$'"
      ],
      "execution_count": null,
      "outputs": []
    },
    {
      "cell_type": "code",
      "metadata": {
        "id": "EClC3HBZjKmR"
      },
      "source": [
        "#6  CITY names from STATION that either do not start with vowels or do not end with vowels.\r\n",
        "\r\n",
        "#select distinct(CITY) from STATION where CITY regexp '^[^aeiou]' or CITY regexp '[^aeiou]$'"
      ],
      "execution_count": null,
      "outputs": []
    },
    {
      "cell_type": "code",
      "metadata": {
        "id": "QrBDj1oHkQWn"
      },
      "source": [
        "#7 CITY names from STATION that do not start with vowels and do not end with vowels.\r\n",
        "\r\n",
        "#select distinct(CITY ) from STATION where CITY regexp '^[^aeiou]' and CITY regexp '[^aeiou]$' "
      ],
      "execution_count": null,
      "outputs": []
    },
    {
      "cell_type": "markdown",
      "metadata": {
        "id": "tht2BfLH9eFZ"
      },
      "source": [
        "### And OR Not Operators"
      ]
    },
    {
      "cell_type": "code",
      "metadata": {
        "id": "TiLbYNhM9PLC"
      },
      "source": [
        "# select col1, col2 from table_name where cond1 and cond2 and cond3;\r\n",
        "#SELECT * FROM Customers WHERE Country='Germany' and City like 'B%' and \tContactName like 'M%' ;"
      ],
      "execution_count": null,
      "outputs": []
    },
    {
      "cell_type": "code",
      "metadata": {
        "id": "7PprXOdS_tgf"
      },
      "source": [
        "# select col1, col2 from table_name where cond1 or cond2 or cond3;             \r\n",
        "#SELECT * FROM Customers WHERE City='Berlin' or City='London' or City='Madrid';"
      ],
      "execution_count": null,
      "outputs": []
    },
    {
      "cell_type": "code",
      "metadata": {
        "id": "aj76LZ_r_tux"
      },
      "source": [
        "# select col1, col2 from table_name where not condition;\r\n",
        "# SELECT * FROM Customers WHERE NOT Country='Germany';"
      ],
      "execution_count": null,
      "outputs": []
    },
    {
      "cell_type": "code",
      "metadata": {
        "id": "CkgMoZRJCA7n"
      },
      "source": [
        "# key points\r\n",
        "\r\n",
        "#'and' operator is applied b/w two different fields.\r\n",
        "#'or' operator is applied on the same field."
      ],
      "execution_count": null,
      "outputs": []
    },
    {
      "cell_type": "markdown",
      "metadata": {
        "id": "RgQtr1MMJxe_"
      },
      "source": [
        "## **Count, Avg, Sum, Max, Min**"
      ]
    },
    {
      "cell_type": "code",
      "metadata": {
        "id": "mKFZCYfSCXNr"
      },
      "source": [
        "#The COUNT() function returns the number of records that matches a specified criterion.\r\n",
        "#SELECT COUNT(*) as count FROM Products;\r\n",
        "#SELECT COUNT(distinct unit) as no_of_unique_units FROM Products;\r\n",
        "#SELECT COUNT(*) as count FROM Products where Price>10;"
      ],
      "execution_count": null,
      "outputs": []
    },
    {
      "cell_type": "code",
      "metadata": {
        "id": "-9m8Xc4oLSWX"
      },
      "source": [
        "#The AVG() function returns the average value of a numeric column.\r\n",
        "#SELECT AVG(Price) as avg_price FROM Products;"
      ],
      "execution_count": null,
      "outputs": []
    },
    {
      "cell_type": "code",
      "metadata": {
        "id": "PEO8YaWDLSkD"
      },
      "source": [
        "#The SUM() function returns the total sum of a numeric column.\r\n",
        "#SELECT sum(Price) as total_price FROM Products.\r\n",
        "#SELECT SUM(distinct Quantity) FROM OrderDetails;"
      ],
      "execution_count": null,
      "outputs": []
    },
    {
      "cell_type": "code",
      "metadata": {
        "id": "vyrBdy7dLSwd"
      },
      "source": [
        "#The MIN() function returns the smallest value of the  numeric column.\r\n",
        "#SELECT MIN(Price) AS SmallestPrice FROM Products;"
      ],
      "execution_count": null,
      "outputs": []
    },
    {
      "cell_type": "code",
      "metadata": {
        "id": "yJ5odpLFLS8b"
      },
      "source": [
        "#The MAX() function returns the largest value of the  numeric column.\r\n",
        "#SELECT MAX(Price) AS LargestPrice FROM Products;"
      ],
      "execution_count": null,
      "outputs": []
    },
    {
      "cell_type": "markdown",
      "metadata": {
        "id": "OAgcAsGsPFKs"
      },
      "source": [
        "## **Limit Clause**"
      ]
    },
    {
      "cell_type": "code",
      "metadata": {
        "id": "iKvMeZV3PIdj"
      },
      "source": [
        "# it is used to select a limited number of records\r\n",
        "# select * from table_name where condition  limit = number;\r\n",
        "#SELECT * FROM Customers LIMIT 3;"
      ],
      "execution_count": null,
      "outputs": []
    },
    {
      "cell_type": "markdown",
      "metadata": {
        "id": "F_jbt1tvPq_4"
      },
      "source": [
        "## **Order By Clause**"
      ]
    },
    {
      "cell_type": "code",
      "metadata": {
        "id": "yeVmC0XmPWMr"
      },
      "source": [
        "# select col1,col2 from table_name where cond orderby col1 asc, col2 desc;\r\n",
        "#SELECT * FROM Customers where \tCity like 'B%' ORDER BY Country ASC, CustomerName DESC; "
      ],
      "execution_count": null,
      "outputs": []
    },
    {
      "cell_type": "code",
      "metadata": {
        "id": "CG2zSxL1xOIJ"
      },
      "source": [
        "#it will first sort all the records in ascending order as per col1\r\n",
        "#at a point where values of col1 nd col2 are same, records will be sorted in descending order as per col2."
      ],
      "execution_count": null,
      "outputs": []
    },
    {
      "cell_type": "markdown",
      "metadata": {
        "id": "06EhH0fxzMLb"
      },
      "source": [
        "### **Group By Clause**"
      ]
    },
    {
      "cell_type": "code",
      "metadata": {
        "id": "ltfR0qAUx0OP"
      },
      "source": [
        "#The GROUP BY statement groups records that have the same values.\r\n",
        "#it is often used with aggregate functions (COUNT, MAX, MIN, SUM, AVG)."
      ],
      "execution_count": null,
      "outputs": []
    },
    {
      "cell_type": "code",
      "metadata": {
        "id": "03pfqm9f0jzz"
      },
      "source": [
        "#SELECT Country, COUNT(*) as count FROM Customers where Country<> 'Germany'  GROUP BY Country ORDER BY COUNT(*) DESC;  "
      ],
      "execution_count": null,
      "outputs": []
    },
    {
      "cell_type": "code",
      "metadata": {
        "id": "Iw3pI_AQtT7k"
      },
      "source": [
        "#####\r\n",
        "# select   months*salary , count(*) from Employee group by months*salary order by(months*salary)  \r\n",
        "#desc limit 1"
      ],
      "execution_count": null,
      "outputs": []
    },
    {
      "cell_type": "markdown",
      "metadata": {
        "id": "pxyadUHC63IF"
      },
      "source": [
        "### **Having Clause**"
      ]
    },
    {
      "cell_type": "code",
      "metadata": {
        "id": "PG3JGDbl6v3F"
      },
      "source": [
        "#it is utilized as a conditional clause with Group By clause.\r\n",
        "#it is added to SQL because where clause can't be combined with aggregate results.\r\n",
        "\r\n",
        "#like SELECT Country, COUNT(*) as count FROM Customers where COUNT(*)>5  GROUP BY Country ORDER BY COUNT(*) DESC;      #this wouldn't work"
      ],
      "execution_count": null,
      "outputs": []
    },
    {
      "cell_type": "code",
      "metadata": {
        "id": "N0C5lMi0KZQ_"
      },
      "source": [
        "#SELECT Country, COUNT(*) as count FROM Customers  GROUP BY Country having COUNT(*)>5 ORDER BY COUNT(*) DESC;"
      ],
      "execution_count": null,
      "outputs": []
    },
    {
      "cell_type": "code",
      "metadata": {
        "id": "8bvbVXPaLxEG"
      },
      "source": [
        "#SELECT Country, COUNT(*) as count FROM Customers  where Country<> 'Germany'  GROUP BY Country having COUNT(*)>5 ORDER BY COUNT(*) DESC limit 3;"
      ],
      "execution_count": null,
      "outputs": []
    },
    {
      "cell_type": "code",
      "metadata": {
        "id": "UA53qw5lMEpv"
      },
      "source": [
        "#select * from table_name\r\n",
        "#where condition\r\n",
        "#group by col\r\n",
        "#having condition\r\n",
        "#order by col\r\n",
        "#limit 3"
      ],
      "execution_count": null,
      "outputs": []
    },
    {
      "cell_type": "markdown",
      "metadata": {
        "id": "zQFuFhd5qMuj"
      },
      "source": [
        "### **Alias**"
      ]
    },
    {
      "cell_type": "markdown",
      "metadata": {
        "id": "eUyF3zMPqUJs"
      },
      "source": [
        "### **Alias column syntex**"
      ]
    },
    {
      "cell_type": "code",
      "metadata": {
        "id": "ab3m875RqkQJ"
      },
      "source": [
        "# select col_name as alias_name from table_name\r\n",
        "\r\n",
        "#select CustomerName as name concat(Address,' ',PostalCode,' ',City,' ',Country) as Address from Customers;"
      ],
      "execution_count": null,
      "outputs": []
    },
    {
      "cell_type": "markdown",
      "metadata": {
        "id": "g47jnD1eqUub"
      },
      "source": [
        "### **Alias table syntex**"
      ]
    },
    {
      "cell_type": "code",
      "metadata": {
        "id": "D6ht2tLxYIjp"
      },
      "source": [
        "# select * from table_name as alias_name;\r\n",
        "\r\n",
        "#select  o.OrderId, o.OrderDate, c.CustomerName from Customers as c, Orders as o where c.CustomerID= o.CustomerID  and c.CustomerName='sourav';"
      ],
      "execution_count": null,
      "outputs": []
    },
    {
      "cell_type": "markdown",
      "metadata": {
        "id": "jPF-D4SopYPB"
      },
      "source": [
        "### **Comments**"
      ]
    },
    {
      "cell_type": "markdown",
      "metadata": {
        "id": "d5q6_SAir9Xl"
      },
      "source": [
        "### **Single line comment**"
      ]
    },
    {
      "cell_type": "code",
      "metadata": {
        "id": "lhBI_o7zsI4U"
      },
      "source": [
        "#       select * from customers --where name='sourav';"
      ],
      "execution_count": null,
      "outputs": []
    },
    {
      "cell_type": "markdown",
      "metadata": {
        "id": "-7RE_n_Cr9p7"
      },
      "source": [
        "### **Multi-line comment**"
      ]
    },
    {
      "cell_type": "code",
      "metadata": {
        "id": "7iP-jDdqJzeu"
      },
      "source": [
        "#    /*select * from customers;\r\n",
        "#    select * from shippers;\r\n",
        "#    select * from orders;*/"
      ],
      "execution_count": null,
      "outputs": []
    },
    {
      "cell_type": "markdown",
      "metadata": {
        "id": "U2RbYRvi3MCT"
      },
      "source": [
        "### **Exists Operator**"
      ]
    },
    {
      "cell_type": "code",
      "metadata": {
        "id": "FjGrxazS4EaR"
      },
      "source": [
        "#The EXISTS operator returns true if the subquery returns one or more records."
      ],
      "execution_count": null,
      "outputs": []
    },
    {
      "cell_type": "code",
      "metadata": {
        "id": "_i3Q7J52rVhu"
      },
      "source": [
        "#The following SQL statement returns TRUE and lists the ProductName that has quantity =10\r\n",
        "#SELECT ProductName  FROM Products as p WHERE exists (SELECT ProductID FROM OrderDetails as o  WHERE Quantity = 10 and p.ProductID=o.ProductID);\r\n",
        "\r\n",
        "\r\n",
        "#alternate query for same result\r\n",
        "#SELECT ProductName  FROM Products WHERE ProductID in (SELECT ProductID FROM OrderDetails WHERE Quantity = 10);"
      ],
      "execution_count": null,
      "outputs": []
    },
    {
      "cell_type": "markdown",
      "metadata": {
        "id": "RFChvzM03nC4"
      },
      "source": [
        "### **Any Operator**"
      ]
    },
    {
      "cell_type": "code",
      "metadata": {
        "id": "qrv9vqP335n6"
      },
      "source": [
        "#The ANY operator returns true if any of the subquery values meet the condition.\r\n",
        "#The following SQL statement returns TRUE and lists the product names if it finds ANY records in the OrderDetails table that quantity = 10"
      ],
      "execution_count": null,
      "outputs": []
    },
    {
      "cell_type": "code",
      "metadata": {
        "id": "8200uOfpsph1"
      },
      "source": [
        "#SELECT ProductName  FROM Products WHERE ProductID = ANY (SELECT ProductID FROM OrderDetails WHERE Quantity = 10);"
      ],
      "execution_count": null,
      "outputs": []
    },
    {
      "cell_type": "markdown",
      "metadata": {
        "id": "IwRy6pDT3r1D"
      },
      "source": [
        "### **All Operator**"
      ]
    },
    {
      "cell_type": "code",
      "metadata": {
        "id": "0lGULsKR39kp"
      },
      "source": [
        "#The ALL operator returns true if all of the subquery values meet the condition.\r\n",
        "#The following SQL statement returns TRUE and lists the product names \r\n",
        "#if ALL the records in the OrderDetails table has quantity = 10 \r\n",
        "#(so, this example will return FALSE, because not ALL records in the OrderDetails table has quantity = 10)"
      ],
      "execution_count": null,
      "outputs": []
    },
    {
      "cell_type": "code",
      "metadata": {
        "id": "B1EApOrKsLOA"
      },
      "source": [
        "#SELECT ProductName FROM Products WHERE ProductID = ALL (SELECT ProductID FROM OrderDetails WHERE Quantity = 10);"
      ],
      "execution_count": null,
      "outputs": []
    },
    {
      "cell_type": "markdown",
      "metadata": {
        "id": "6bCBz47U_LSo"
      },
      "source": [
        "### **Case Statement**"
      ]
    },
    {
      "cell_type": "code",
      "metadata": {
        "id": "-ToQ_I-K-PyH"
      },
      "source": [
        "#through conditions and returns a value when the first condition is met\r\n",
        "\r\n",
        "\r\n",
        "\r\n",
        "# select OrderID, Quantity,\r\n",
        "# case\r\n",
        "# \twhen Quantity >30 then 'quatity is greater than 30'\r\n",
        "#     when Quantity = 30  then 'quantity is equals to 30'\r\n",
        "#     else 'quantity is less than 30'\r\n",
        "# end as Qunatity_text\r\n",
        "\r\n",
        "\r\n",
        "\r\n",
        "# select CustomerName, City, Country from Customers\r\n",
        "# order by \r\n",
        "# (case \r\n",
        "# \twhen City is null then Country\r\n",
        "#     else City\r\n",
        "# end)"
      ],
      "execution_count": null,
      "outputs": []
    },
    {
      "cell_type": "markdown",
      "metadata": {
        "id": "pWNTUHYSUZYF"
      },
      "source": [
        "### **Nested Case Statement**"
      ]
    },
    {
      "cell_type": "code",
      "metadata": {
        "id": "YEXutwroVFKo"
      },
      "source": [
        "#Type of Triangle\r\n",
        "\r\n",
        "# select \r\n",
        "# (case \r\n",
        "#     when (A+B)>C and (B+C)>A and (C+A)>B then \r\n",
        "#         (case\r\n",
        "#              when A=B and B=C and C=A then 'Equilateral'\r\n",
        "#              when (A=B and B<>C) or (B=C and A<>C) or (C=A and B<>A) then 'Isosceles'\r\n",
        "#              when A<>B and B<>C and C<>A then 'Scalene'                \r\n",
        "#          end)\r\n",
        "#     else  'Not A Triangle'        \r\n",
        "# end ) \r\n",
        "# from TRIANGLES "
      ],
      "execution_count": null,
      "outputs": []
    },
    {
      "cell_type": "markdown",
      "metadata": {
        "id": "8yE1cZNy9H9U"
      },
      "source": [
        "### **Null functions**"
      ]
    },
    {
      "cell_type": "code",
      "metadata": {
        "id": "g-1wDAoH49sR"
      },
      "source": [
        "#it returns an alternative value if an expression is NULL:\r\n",
        "#SELECT ProductName, UnitPrice * IFNULL(UnitsOnOrder, 0) FROM Products;"
      ],
      "execution_count": null,
      "outputs": []
    },
    {
      "cell_type": "markdown",
      "metadata": {
        "id": "8Kde2Oo72CNd"
      },
      "source": [
        "### **Null Values**"
      ]
    },
    {
      "cell_type": "code",
      "metadata": {
        "id": "bLFCY_zn2VGA"
      },
      "source": [
        "# A field with a Null Value is a field with no value.\r\n",
        "\r\n",
        "# A Null value is different from a zero value. A feild with a Null value is one that has been\r\n",
        "# left blank during record creation."
      ],
      "execution_count": null,
      "outputs": []
    },
    {
      "cell_type": "code",
      "metadata": {
        "id": "mZVI7EXq32ei"
      },
      "source": [
        "# How to test for Null values?\r\n",
        "\r\n",
        "# Null values can't be test with comparison operator, such as =, <>.\r\n",
        "# we will have to use the IS NULL/ IS NOT NULL operators instead."
      ],
      "execution_count": null,
      "outputs": []
    },
    {
      "cell_type": "code",
      "metadata": {
        "id": "oR7z5iDD4QzQ"
      },
      "source": [
        "# select col1, col2 from table_name where col1 is null;\r\n",
        "# select col1, col2 from table_name where col1 is not null;"
      ],
      "execution_count": null,
      "outputs": []
    },
    {
      "cell_type": "markdown",
      "metadata": {
        "id": "2ZNFC5b6tLVY"
      },
      "source": [
        "### **Working with Dates**"
      ]
    },
    {
      "cell_type": "code",
      "metadata": {
        "id": "DAeJAMubtN3C"
      },
      "source": [
        "# SELECT * FROM Orders WHERE OrderDate='2008-11-11'"
      ],
      "execution_count": null,
      "outputs": []
    }
  ]
}
